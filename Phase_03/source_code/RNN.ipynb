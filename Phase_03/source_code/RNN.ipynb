{
 "cells": [
  {
   "cell_type": "markdown",
   "id": "7eee2204",
   "metadata": {},
   "source": [
    "# Phase 3: RNN"
   ]
  },
  {
   "cell_type": "markdown",
   "id": "50abc706",
   "metadata": {},
   "source": [
    "## Import các thư viện cần thiết"
   ]
  },
  {
   "cell_type": "code",
   "execution_count": 101,
   "id": "54435ab6",
   "metadata": {},
   "outputs": [],
   "source": [
    "import json\n",
    "import numpy as np\n",
    "import pandas as pd\n",
    "\n",
    "from sklearn.metrics import accuracy_score, precision_score, recall_score, f1_score, roc_auc_score, roc_curve\n",
    "import matplotlib.pyplot as plt\n",
    "\n",
    "from sklearn.preprocessing import StandardScaler\n",
    "from sklearn.model_selection import train_test_split\n",
    "\n",
    "import tensorflow as tf\n",
    "\n",
    "from tensorflow.keras import layers, models\n",
    "from tensorflow.keras.callbacks import EarlyStopping, ReduceLROnPlateau\n",
    "from tensorflow.keras.regularizers import l2\n",
    "import time\n",
    "import psutil\n",
    "import os"
   ]
  },
  {
   "cell_type": "markdown",
   "id": "06083fa9",
   "metadata": {},
   "source": [
    "## Đọc dữ liệu huấn luyện và dữ liệu test"
   ]
  },
  {
   "cell_type": "code",
   "execution_count": 102,
   "id": "51be06de",
   "metadata": {},
   "outputs": [],
   "source": [
    "# Đường dẫn đến thư mục chứa dữ liệu\n",
    "path_to_data='.'"
   ]
  },
  {
   "cell_type": "code",
   "execution_count": 103,
   "id": "95378158",
   "metadata": {},
   "outputs": [],
   "source": [
    "# Đọc dữ liệu huấn luyện từ file JSON\n",
    "with open(path_to_data+'/train.json','r') as f:\n",
    "    train_data = json.load(f)\n",
    "\n",
    "# Đọc dữ liệu test từ file JSON\n",
    "with open(path_to_data+'/test.json','r') as f:\n",
    "    test_data = json.load(f)\n",
    "\n",
    "# Chuyển  dữ liệu thành DataFrame để dễ quan sát\n",
    "train_df = pd.DataFrame(train_data)\n",
    "test_df = pd.DataFrame(test_data)"
   ]
  },
  {
   "cell_type": "code",
   "execution_count": 104,
   "id": "bd45ae48",
   "metadata": {},
   "outputs": [
    {
     "data": {
      "text/html": [
       "<div>\n",
       "<style scoped>\n",
       "    .dataframe tbody tr th:only-of-type {\n",
       "        vertical-align: middle;\n",
       "    }\n",
       "\n",
       "    .dataframe tbody tr th {\n",
       "        vertical-align: top;\n",
       "    }\n",
       "\n",
       "    .dataframe thead th {\n",
       "        text-align: right;\n",
       "    }\n",
       "</style>\n",
       "<table border=\"1\" class=\"dataframe\">\n",
       "  <thead>\n",
       "    <tr style=\"text-align: right;\">\n",
       "      <th></th>\n",
       "      <th>audio_embedding</th>\n",
       "      <th>is_turkey</th>\n",
       "      <th>vid_id</th>\n",
       "      <th>end_time_seconds_youtube_clip</th>\n",
       "      <th>start_time_seconds_youtube_clip</th>\n",
       "    </tr>\n",
       "  </thead>\n",
       "  <tbody>\n",
       "    <tr>\n",
       "      <th>0</th>\n",
       "      <td>[[172, 34, 216, 110, 208, 46, 95, 66, 161, 125...</td>\n",
       "      <td>0</td>\n",
       "      <td>kDCk3hLIVXo</td>\n",
       "      <td>70</td>\n",
       "      <td>60</td>\n",
       "    </tr>\n",
       "    <tr>\n",
       "      <th>1</th>\n",
       "      <td>[[169, 20, 165, 102, 205, 62, 110, 103, 211, 1...</td>\n",
       "      <td>1</td>\n",
       "      <td>DPcGzqHoo7Y</td>\n",
       "      <td>40</td>\n",
       "      <td>30</td>\n",
       "    </tr>\n",
       "    <tr>\n",
       "      <th>2</th>\n",
       "      <td>[[148, 8, 138, 60, 237, 48, 121, 108, 145, 177...</td>\n",
       "      <td>1</td>\n",
       "      <td>7yM63MTHh5k</td>\n",
       "      <td>240</td>\n",
       "      <td>230</td>\n",
       "    </tr>\n",
       "    <tr>\n",
       "      <th>3</th>\n",
       "      <td>[[151, 0, 162, 88, 171, 71, 47, 90, 179, 190, ...</td>\n",
       "      <td>1</td>\n",
       "      <td>luG3RmUAxxM</td>\n",
       "      <td>520</td>\n",
       "      <td>510</td>\n",
       "    </tr>\n",
       "    <tr>\n",
       "      <th>4</th>\n",
       "      <td>[[162, 17, 187, 111, 211, 105, 92, 67, 203, 15...</td>\n",
       "      <td>0</td>\n",
       "      <td>PIm3cjxTpOk</td>\n",
       "      <td>10</td>\n",
       "      <td>0</td>\n",
       "    </tr>\n",
       "  </tbody>\n",
       "</table>\n",
       "</div>"
      ],
      "text/plain": [
       "                                     audio_embedding  is_turkey       vid_id  \\\n",
       "0  [[172, 34, 216, 110, 208, 46, 95, 66, 161, 125...          0  kDCk3hLIVXo   \n",
       "1  [[169, 20, 165, 102, 205, 62, 110, 103, 211, 1...          1  DPcGzqHoo7Y   \n",
       "2  [[148, 8, 138, 60, 237, 48, 121, 108, 145, 177...          1  7yM63MTHh5k   \n",
       "3  [[151, 0, 162, 88, 171, 71, 47, 90, 179, 190, ...          1  luG3RmUAxxM   \n",
       "4  [[162, 17, 187, 111, 211, 105, 92, 67, 203, 15...          0  PIm3cjxTpOk   \n",
       "\n",
       "   end_time_seconds_youtube_clip  start_time_seconds_youtube_clip  \n",
       "0                             70                               60  \n",
       "1                             40                               30  \n",
       "2                            240                              230  \n",
       "3                            520                              510  \n",
       "4                             10                                0  "
      ]
     },
     "execution_count": 104,
     "metadata": {},
     "output_type": "execute_result"
    }
   ],
   "source": [
    "# In ra dữ liệu huấn luyện\n",
    "train_df.head()"
   ]
  },
  {
   "cell_type": "code",
   "execution_count": 105,
   "id": "0e1a8470",
   "metadata": {},
   "outputs": [
    {
     "data": {
      "text/html": [
       "<div>\n",
       "<style scoped>\n",
       "    .dataframe tbody tr th:only-of-type {\n",
       "        vertical-align: middle;\n",
       "    }\n",
       "\n",
       "    .dataframe tbody tr th {\n",
       "        vertical-align: top;\n",
       "    }\n",
       "\n",
       "    .dataframe thead th {\n",
       "        text-align: right;\n",
       "    }\n",
       "</style>\n",
       "<table border=\"1\" class=\"dataframe\">\n",
       "  <thead>\n",
       "    <tr style=\"text-align: right;\">\n",
       "      <th></th>\n",
       "      <th>audio_embedding</th>\n",
       "      <th>vid_id</th>\n",
       "      <th>end_time_seconds_youtube_clip</th>\n",
       "      <th>start_time_seconds_youtube_clip</th>\n",
       "    </tr>\n",
       "  </thead>\n",
       "  <tbody>\n",
       "    <tr>\n",
       "      <th>0</th>\n",
       "      <td>[[177, 20, 226, 132, 198, 81, 111, 59, 132, 18...</td>\n",
       "      <td>pyKh38FXD3E</td>\n",
       "      <td>10</td>\n",
       "      <td>0</td>\n",
       "    </tr>\n",
       "    <tr>\n",
       "      <th>1</th>\n",
       "      <td>[[169, 21, 204, 161, 195, 72, 60, 39, 152, 184...</td>\n",
       "      <td>THhP1idrWXA</td>\n",
       "      <td>40</td>\n",
       "      <td>30</td>\n",
       "    </tr>\n",
       "    <tr>\n",
       "      <th>2</th>\n",
       "      <td>[[165, 13, 198, 141, 199, 81, 173, 54, 119, 11...</td>\n",
       "      <td>jsw3T6GY2Nw</td>\n",
       "      <td>40</td>\n",
       "      <td>30</td>\n",
       "    </tr>\n",
       "    <tr>\n",
       "      <th>3</th>\n",
       "      <td>[[167, 18, 188, 159, 198, 63, 156, 36, 179, 22...</td>\n",
       "      <td>nFkXTMHcjMU</td>\n",
       "      <td>24</td>\n",
       "      <td>14</td>\n",
       "    </tr>\n",
       "    <tr>\n",
       "      <th>4</th>\n",
       "      <td>[[178, 32, 181, 100, 198, 46, 82, 83, 136, 227...</td>\n",
       "      <td>Au8g9kAlrLQ</td>\n",
       "      <td>40</td>\n",
       "      <td>30</td>\n",
       "    </tr>\n",
       "  </tbody>\n",
       "</table>\n",
       "</div>"
      ],
      "text/plain": [
       "                                     audio_embedding       vid_id  \\\n",
       "0  [[177, 20, 226, 132, 198, 81, 111, 59, 132, 18...  pyKh38FXD3E   \n",
       "1  [[169, 21, 204, 161, 195, 72, 60, 39, 152, 184...  THhP1idrWXA   \n",
       "2  [[165, 13, 198, 141, 199, 81, 173, 54, 119, 11...  jsw3T6GY2Nw   \n",
       "3  [[167, 18, 188, 159, 198, 63, 156, 36, 179, 22...  nFkXTMHcjMU   \n",
       "4  [[178, 32, 181, 100, 198, 46, 82, 83, 136, 227...  Au8g9kAlrLQ   \n",
       "\n",
       "   end_time_seconds_youtube_clip  start_time_seconds_youtube_clip  \n",
       "0                             10                                0  \n",
       "1                             40                               30  \n",
       "2                             40                               30  \n",
       "3                             24                               14  \n",
       "4                             40                               30  "
      ]
     },
     "execution_count": 105,
     "metadata": {},
     "output_type": "execute_result"
    }
   ],
   "source": [
    "# In ra dữ liệu kiểm tra\n",
    "test_df.head()"
   ]
  },
  {
   "cell_type": "markdown",
   "id": "96265116",
   "metadata": {},
   "source": [
    "## Phát triển mô hình"
   ]
  },
  {
   "cell_type": "markdown",
   "id": "4d9660d5",
   "metadata": {},
   "source": [
    "### Xử lý dữ liệu mô hình trước khi huấn luyện"
   ]
  },
  {
   "cell_type": "code",
   "execution_count": 106,
   "id": "d7869de7",
   "metadata": {},
   "outputs": [],
   "source": [
    "# Hàm để padding các embeddings về cùng kích thước\n",
    "def padding_embeddings(embeddings,max_frames=10,frame_size=128):\n",
    "    # Nếu số frame nhỏ hơn max_frames → pad thêm frame 0\n",
    "    if len(embeddings) < max_frames:\n",
    "        pad_len = max_frames - len(embeddings)\n",
    "        padding = [[0] * frame_size] * pad_len\n",
    "        embeddings = embeddings + padding\n",
    "    # Nếu số frame lớn hơn → cắt bớt\n",
    "    elif len(embeddings) > max_frames:\n",
    "        embeddings = embeddings[:max_frames]\n",
    "    return np.array(embeddings)"
   ]
  },
  {
   "cell_type": "markdown",
   "id": "4cc9fd8d",
   "metadata": {},
   "source": [
    "### Chuyển đổi dữ liệu thành mảng numpy và dùng padding"
   ]
  },
  {
   "cell_type": "code",
   "execution_count": 107,
   "id": "1b69674c",
   "metadata": {},
   "outputs": [],
   "source": [
    "# Chuyển đổi dữ liệu huấn luyện và test thành mảng NumPy với padding\n",
    "train_X = np.array([padding_embeddings(item['audio_embedding']) for item in train_data])\n",
    "train_Y = np.array([item['is_turkey'] for item in train_data])\n",
    "valid_idx = test_df['audio_embedding'].apply(lambda x: isinstance(x, list) and len(x) > 0)\n",
    "test_X = np.array([padding_embeddings(item['audio_embedding']) for item in test_data])"
   ]
  },
  {
   "cell_type": "markdown",
   "id": "dd72557c",
   "metadata": {},
   "source": [
    "### Chuẩn hóa dữ liệu"
   ]
  },
  {
   "cell_type": "code",
   "execution_count": 108,
   "id": "ce259902",
   "metadata": {},
   "outputs": [],
   "source": [
    "scaler = StandardScaler()\n",
    "X_train = scaler.fit_transform(train_X.reshape(-1, 128)).reshape(-1, 10, 128) # Chuyển đổi train_X về dạng 2D cho scaler, sau đó reshape lại về dạng 3D\n",
    "X_test = scaler.transform(test_X.reshape(-1, 128)).reshape(-1, 10, 128) # Chuyển đổi test_X về dạng 2D cho scaler, sau đó reshape lại về dạng 3D\n",
    "X_train, X_val, y_train, y_val = train_test_split(train_X, train_Y, test_size=0.2, random_state=45) # Chia dữ liệu thành tập huấn luyện và tập \n"
   ]
  },
  {
   "cell_type": "markdown",
   "id": "76a8ca05",
   "metadata": {},
   "source": [
    "### Xây dựng mô hình"
   ]
  },
  {
   "cell_type": "code",
   "execution_count": 109,
   "id": "5815c8f2",
   "metadata": {},
   "outputs": [],
   "source": [
    "model=models.Sequential([\n",
    "    layers.Input(shape=(10, 128)), # Đầu vào\n",
    "    layers.Masking(mask_value=0.0), # Bỏ qua các giá trị padding\n",
    "    layers.SpatialDropout1D(0.1), # Giảm overfitting bằng cách dropout theo không gian\n",
    "    layers.LSTM(128,return_sequences=False), # LSTM với 128 units\n",
    "    layers.Dropout(0.1), # Dropout để giảm overfitting\n",
    "    layers.Dense(32,activation='relu'), # Dense layer với 32 units và ReLU activation\n",
    "    layers.Dropout(0.1), # Dropout để giảm overfitting\n",
    "    layers.Dense(1, activation='sigmoid') # Đầu ra với sigmoid activation\n",
    "])\n",
    "\n",
    "model.compile(optimizer='adam', loss='binary_crossentropy', metrics=['auc']) # Biên dịch mô hình với hàm mất mát binary_crossentropy và metric AUC"
   ]
  },
  {
   "cell_type": "markdown",
   "id": "12f5b7ef",
   "metadata": {},
   "source": [
    "### Xây dựng callback"
   ]
  },
  {
   "cell_type": "code",
   "execution_count": 110,
   "id": "36b4674d",
   "metadata": {},
   "outputs": [],
   "source": [
    "early_stop= [EarlyStopping(monitor='val_loss', patience=5, restore_best_weights=True), # Dừng sớm nếu không cải thiện trong 5 epoch\n",
    "            ReduceLROnPlateau(monitor='val_loss', patience=3, factor=0.5, verbose=1)] # Giảm learning rate nếu không cải thiện trong 3 epoch"
   ]
  },
  {
   "cell_type": "markdown",
   "id": "b05e0d30",
   "metadata": {},
   "source": [
    "### Huấn luyện mô hình"
   ]
  },
  {
   "cell_type": "code",
   "execution_count": 111,
   "id": "e851a093",
   "metadata": {},
   "outputs": [
    {
     "name": "stdout",
     "output_type": "stream",
     "text": [
      "Epoch 1/50\n",
      "\u001b[1m15/15\u001b[0m \u001b[32m━━━━━━━━━━━━━━━━━━━━\u001b[0m\u001b[37m\u001b[0m \u001b[1m3s\u001b[0m 51ms/step - auc: 0.6293 - loss: 0.6708 - val_auc: 0.8865 - val_loss: 0.5196 - learning_rate: 0.0010\n",
      "Epoch 2/50\n",
      "\u001b[1m15/15\u001b[0m \u001b[32m━━━━━━━━━━━━━━━━━━━━\u001b[0m\u001b[37m\u001b[0m \u001b[1m0s\u001b[0m 19ms/step - auc: 0.8847 - loss: 0.4787 - val_auc: 0.9409 - val_loss: 0.3757 - learning_rate: 0.0010\n",
      "Epoch 3/50\n",
      "\u001b[1m15/15\u001b[0m \u001b[32m━━━━━━━━━━━━━━━━━━━━\u001b[0m\u001b[37m\u001b[0m \u001b[1m0s\u001b[0m 17ms/step - auc: 0.9243 - loss: 0.3830 - val_auc: 0.9486 - val_loss: 0.3323 - learning_rate: 0.0010\n",
      "Epoch 4/50\n",
      "\u001b[1m15/15\u001b[0m \u001b[32m━━━━━━━━━━━━━━━━━━━━\u001b[0m\u001b[37m\u001b[0m \u001b[1m0s\u001b[0m 26ms/step - auc: 0.9467 - loss: 0.3314 - val_auc: 0.9456 - val_loss: 0.3203 - learning_rate: 0.0010\n",
      "Epoch 5/50\n",
      "\u001b[1m15/15\u001b[0m \u001b[32m━━━━━━━━━━━━━━━━━━━━\u001b[0m\u001b[37m\u001b[0m \u001b[1m0s\u001b[0m 25ms/step - auc: 0.9272 - loss: 0.3490 - val_auc: 0.9644 - val_loss: 0.2847 - learning_rate: 0.0010\n",
      "Epoch 6/50\n",
      "\u001b[1m15/15\u001b[0m \u001b[32m━━━━━━━━━━━━━━━━━━━━\u001b[0m\u001b[37m\u001b[0m \u001b[1m0s\u001b[0m 24ms/step - auc: 0.9419 - loss: 0.3129 - val_auc: 0.9627 - val_loss: 0.2739 - learning_rate: 0.0010\n",
      "Epoch 7/50\n",
      "\u001b[1m15/15\u001b[0m \u001b[32m━━━━━━━━━━━━━━━━━━━━\u001b[0m\u001b[37m\u001b[0m \u001b[1m0s\u001b[0m 27ms/step - auc: 0.9351 - loss: 0.3273 - val_auc: 0.9731 - val_loss: 0.2444 - learning_rate: 0.0010\n",
      "Epoch 8/50\n",
      "\u001b[1m15/15\u001b[0m \u001b[32m━━━━━━━━━━━━━━━━━━━━\u001b[0m\u001b[37m\u001b[0m \u001b[1m0s\u001b[0m 28ms/step - auc: 0.9505 - loss: 0.2832 - val_auc: 0.9684 - val_loss: 0.2474 - learning_rate: 0.0010\n",
      "Epoch 9/50\n",
      "\u001b[1m15/15\u001b[0m \u001b[32m━━━━━━━━━━━━━━━━━━━━\u001b[0m\u001b[37m\u001b[0m \u001b[1m0s\u001b[0m 22ms/step - auc: 0.9332 - loss: 0.3252 - val_auc: 0.9778 - val_loss: 0.2114 - learning_rate: 0.0010\n",
      "Epoch 10/50\n",
      "\u001b[1m15/15\u001b[0m \u001b[32m━━━━━━━━━━━━━━━━━━━━\u001b[0m\u001b[37m\u001b[0m \u001b[1m0s\u001b[0m 19ms/step - auc: 0.9536 - loss: 0.2668 - val_auc: 0.9806 - val_loss: 0.1930 - learning_rate: 0.0010\n",
      "Epoch 11/50\n",
      "\u001b[1m15/15\u001b[0m \u001b[32m━━━━━━━━━━━━━━━━━━━━\u001b[0m\u001b[37m\u001b[0m \u001b[1m0s\u001b[0m 18ms/step - auc: 0.9624 - loss: 0.2462 - val_auc: 0.9773 - val_loss: 0.2083 - learning_rate: 0.0010\n",
      "Epoch 12/50\n",
      "\u001b[1m15/15\u001b[0m \u001b[32m━━━━━━━━━━━━━━━━━━━━\u001b[0m\u001b[37m\u001b[0m \u001b[1m0s\u001b[0m 18ms/step - auc: 0.9524 - loss: 0.2762 - val_auc: 0.9873 - val_loss: 0.1870 - learning_rate: 0.0010\n",
      "Epoch 13/50\n",
      "\u001b[1m15/15\u001b[0m \u001b[32m━━━━━━━━━━━━━━━━━━━━\u001b[0m\u001b[37m\u001b[0m \u001b[1m0s\u001b[0m 20ms/step - auc: 0.9574 - loss: 0.2596 - val_auc: 0.9875 - val_loss: 0.1788 - learning_rate: 0.0010\n",
      "Epoch 14/50\n",
      "\u001b[1m15/15\u001b[0m \u001b[32m━━━━━━━━━━━━━━━━━━━━\u001b[0m\u001b[37m\u001b[0m \u001b[1m0s\u001b[0m 19ms/step - auc: 0.9665 - loss: 0.2382 - val_auc: 0.9882 - val_loss: 0.1535 - learning_rate: 0.0010\n",
      "Epoch 15/50\n",
      "\u001b[1m15/15\u001b[0m \u001b[32m━━━━━━━━━━━━━━━━━━━━\u001b[0m\u001b[37m\u001b[0m \u001b[1m0s\u001b[0m 19ms/step - auc: 0.9558 - loss: 0.2672 - val_auc: 0.9814 - val_loss: 0.2048 - learning_rate: 0.0010\n",
      "Epoch 16/50\n",
      "\u001b[1m15/15\u001b[0m \u001b[32m━━━━━━━━━━━━━━━━━━━━\u001b[0m\u001b[37m\u001b[0m \u001b[1m0s\u001b[0m 20ms/step - auc: 0.9555 - loss: 0.2750 - val_auc: 0.9817 - val_loss: 0.1826 - learning_rate: 0.0010\n",
      "Epoch 17/50\n",
      "\u001b[1m13/15\u001b[0m \u001b[32m━━━━━━━━━━━━━━━━━\u001b[0m\u001b[37m━━━\u001b[0m \u001b[1m0s\u001b[0m 14ms/step - auc: 0.9635 - loss: 0.2456\n",
      "Epoch 17: ReduceLROnPlateau reducing learning rate to 0.0005000000237487257.\n",
      "\u001b[1m15/15\u001b[0m \u001b[32m━━━━━━━━━━━━━━━━━━━━\u001b[0m\u001b[37m\u001b[0m \u001b[1m0s\u001b[0m 23ms/step - auc: 0.9630 - loss: 0.2464 - val_auc: 0.9896 - val_loss: 0.1587 - learning_rate: 0.0010\n",
      "Epoch 18/50\n",
      "\u001b[1m15/15\u001b[0m \u001b[32m━━━━━━━━━━━━━━━━━━━━\u001b[0m\u001b[37m\u001b[0m \u001b[1m0s\u001b[0m 24ms/step - auc: 0.9665 - loss: 0.2175 - val_auc: 0.9822 - val_loss: 0.1891 - learning_rate: 5.0000e-04\n",
      "Epoch 19/50\n",
      "\u001b[1m15/15\u001b[0m \u001b[32m━━━━━━━━━━━━━━━━━━━━\u001b[0m\u001b[37m\u001b[0m \u001b[1m0s\u001b[0m 24ms/step - auc: 0.9628 - loss: 0.2421 - val_auc: 0.9889 - val_loss: 0.1523 - learning_rate: 5.0000e-04\n",
      "Epoch 20/50\n",
      "\u001b[1m15/15\u001b[0m \u001b[32m━━━━━━━━━━━━━━━━━━━━\u001b[0m\u001b[37m\u001b[0m \u001b[1m0s\u001b[0m 25ms/step - auc: 0.9634 - loss: 0.2414 - val_auc: 0.9899 - val_loss: 0.1394 - learning_rate: 5.0000e-04\n",
      "Epoch 21/50\n",
      "\u001b[1m15/15\u001b[0m \u001b[32m━━━━━━━━━━━━━━━━━━━━\u001b[0m\u001b[37m\u001b[0m \u001b[1m0s\u001b[0m 23ms/step - auc: 0.9689 - loss: 0.2275 - val_auc: 0.9912 - val_loss: 0.1482 - learning_rate: 5.0000e-04\n",
      "Epoch 22/50\n",
      "\u001b[1m15/15\u001b[0m \u001b[32m━━━━━━━━━━━━━━━━━━━━\u001b[0m\u001b[37m\u001b[0m \u001b[1m0s\u001b[0m 24ms/step - auc: 0.9689 - loss: 0.2254 - val_auc: 0.9916 - val_loss: 0.1327 - learning_rate: 5.0000e-04\n",
      "Epoch 23/50\n",
      "\u001b[1m15/15\u001b[0m \u001b[32m━━━━━━━━━━━━━━━━━━━━\u001b[0m\u001b[37m\u001b[0m \u001b[1m0s\u001b[0m 23ms/step - auc: 0.9723 - loss: 0.2099 - val_auc: 0.9895 - val_loss: 0.1390 - learning_rate: 5.0000e-04\n",
      "Epoch 24/50\n",
      "\u001b[1m15/15\u001b[0m \u001b[32m━━━━━━━━━━━━━━━━━━━━\u001b[0m\u001b[37m\u001b[0m \u001b[1m0s\u001b[0m 23ms/step - auc: 0.9647 - loss: 0.2377 - val_auc: 0.9881 - val_loss: 0.1370 - learning_rate: 5.0000e-04\n",
      "Epoch 25/50\n",
      "\u001b[1m15/15\u001b[0m \u001b[32m━━━━━━━━━━━━━━━━━━━━\u001b[0m\u001b[37m\u001b[0m \u001b[1m0s\u001b[0m 26ms/step - auc: 0.9699 - loss: 0.2124 - val_auc: 0.9904 - val_loss: 0.1242 - learning_rate: 5.0000e-04\n",
      "Epoch 26/50\n",
      "\u001b[1m15/15\u001b[0m \u001b[32m━━━━━━━━━━━━━━━━━━━━\u001b[0m\u001b[37m\u001b[0m \u001b[1m0s\u001b[0m 21ms/step - auc: 0.9707 - loss: 0.2174 - val_auc: 0.9919 - val_loss: 0.1370 - learning_rate: 5.0000e-04\n",
      "Epoch 27/50\n",
      "\u001b[1m15/15\u001b[0m \u001b[32m━━━━━━━━━━━━━━━━━━━━\u001b[0m\u001b[37m\u001b[0m \u001b[1m0s\u001b[0m 19ms/step - auc: 0.9737 - loss: 0.2035 - val_auc: 0.9870 - val_loss: 0.1536 - learning_rate: 5.0000e-04\n",
      "Epoch 28/50\n",
      "\u001b[1m15/15\u001b[0m \u001b[32m━━━━━━━━━━━━━━━━━━━━\u001b[0m\u001b[37m\u001b[0m \u001b[1m0s\u001b[0m 11ms/step - auc: 0.9770 - loss: 0.1926\n",
      "Epoch 28: ReduceLROnPlateau reducing learning rate to 0.0002500000118743628.\n",
      "\u001b[1m15/15\u001b[0m \u001b[32m━━━━━━━━━━━━━━━━━━━━\u001b[0m\u001b[37m\u001b[0m \u001b[1m0s\u001b[0m 18ms/step - auc: 0.9770 - loss: 0.1927 - val_auc: 0.9858 - val_loss: 0.1666 - learning_rate: 5.0000e-04\n",
      "Epoch 29/50\n",
      "\u001b[1m15/15\u001b[0m \u001b[32m━━━━━━━━━━━━━━━━━━━━\u001b[0m\u001b[37m\u001b[0m \u001b[1m0s\u001b[0m 19ms/step - auc: 0.9750 - loss: 0.2020 - val_auc: 0.9867 - val_loss: 0.1607 - learning_rate: 2.5000e-04\n",
      "Epoch 30/50\n",
      "\u001b[1m15/15\u001b[0m \u001b[32m━━━━━━━━━━━━━━━━━━━━\u001b[0m\u001b[37m\u001b[0m \u001b[1m0s\u001b[0m 19ms/step - auc: 0.9596 - loss: 0.2515 - val_auc: 0.9864 - val_loss: 0.1566 - learning_rate: 2.5000e-04\n"
     ]
    }
   ],
   "source": [
    "\n",
    "time_used=0 # Thời gian sử dụng\n",
    "mem_used=0 # Bộ nhớ sử dụng\n",
    "process = psutil.Process(os.getpid())\n",
    "mem_before = process.memory_info().rss / (1024 ** 2)  # MB # Lấy bộ nhớ trước khi huấn luyện\n",
    "\n",
    "start_time = time.time() # Bắt đầu thời gian huấn luyện\n",
    "history = model.fit(X_train, y_train, epochs=50, batch_size=64, validation_data=(X_val, y_val), callbacks=[early_stop]) # Huấn luyện mô hình với dữ liệu huấn luyện và validation\n",
    "end_time = time.time() # Kết thúc thời gian huấn luyện\n",
    "mem_after = process.memory_info().rss / (1024 ** 2)  # MB # Lấy bộ nhớ sau khi huấn luyện\n",
    "mem_used += (mem_after - mem_before) # Tính bộ nhớ sử dụng\n",
    "time_used += (end_time - start_time) # Tính thời gian sử dụng"
   ]
  },
  {
   "cell_type": "markdown",
   "id": "3e5eea05",
   "metadata": {},
   "source": [
    "## ĐÁNH GIÁ MÔ HÌNH"
   ]
  },
  {
   "cell_type": "markdown",
   "id": "33d26f7b",
   "metadata": {},
   "source": [
    "### Đánh giá mô hình trên tập validation"
   ]
  },
  {
   "cell_type": "code",
   "execution_count": 112,
   "id": "3c47a4a5",
   "metadata": {},
   "outputs": [
    {
     "name": "stdout",
     "output_type": "stream",
     "text": [
      "\u001b[1m8/8\u001b[0m \u001b[32m━━━━━━━━━━━━━━━━━━━━\u001b[0m\u001b[37m\u001b[0m \u001b[1m0s\u001b[0m 30ms/step\n",
      "AUC: 0.9902\n",
      "Accuracy: 0.9582\n",
      "Precision: 0.9505\n",
      "Recall: 0.9505\n",
      "F1 Score: 0.9505\n",
      "Time used: 13.64 seconds\n",
      "Memory used: 36.53 MB\n"
     ]
    }
   ],
   "source": [
    "y_pred_prod = model.predict(X_val).ravel() # Dự đoán xác suất cho tập validation\n",
    "y_pred= (y_pred_prod > 0.5).astype(int) # Chuyển đổi xác suất thành nhãn 0 hoặc 1\n",
    "\n",
    "auc= roc_auc_score(y_val, y_pred_prod) # Tính AUC\n",
    "accuracy = accuracy_score(y_val, y_pred) # Tính accuracy\n",
    "precision = precision_score(y_val, y_pred) # Tính precision\n",
    "recall = recall_score(y_val, y_pred) # Tính recall\n",
    "f1 = f1_score(y_val, y_pred) # Tính F1 score\n",
    "\n",
    "print(f\"AUC: {auc:.4f}\")\n",
    "print(f\"Accuracy: {accuracy:.4f}\")\n",
    "print(f\"Precision: {precision:.4f}\")\n",
    "print(f\"Recall: {recall:.4f}\")\n",
    "print(f\"F1 Score: {f1:.4f}\")\n",
    "print(f\"Time used: {time_used:.2f} seconds\")\n",
    "print(f\"Memory used: {mem_used:.2f} MB\")"
   ]
  },
  {
   "cell_type": "markdown",
   "id": "a04bbe19",
   "metadata": {},
   "source": [
    "### Dự đoán trên tập test"
   ]
  },
  {
   "cell_type": "code",
   "execution_count": 113,
   "id": "507fd213",
   "metadata": {},
   "outputs": [
    {
     "name": "stdout",
     "output_type": "stream",
     "text": [
      "\u001b[1m38/38\u001b[0m \u001b[32m━━━━━━━━━━━━━━━━━━━━\u001b[0m\u001b[37m\u001b[0m \u001b[1m0s\u001b[0m 4ms/step\n"
     ]
    }
   ],
   "source": [
    "test_pred_prod = model.predict(test_X).ravel() # Dự đoán xác suất cho tập test\n",
    "\n",
    "# Lưu kết quả dự đoán vào file CSV\n",
    "test_df['is_turkey'] = -1.0\n",
    "test_df.loc[valid_idx, 'is_turkey'] = test_pred_prod\n",
    "test_df.loc[valid_idx, ['vid_id', 'is_turkey']].to_csv('result.csv', index=False)"
   ]
  }
 ],
 "metadata": {
  "kernelspec": {
   "display_name": "Python 3",
   "language": "python",
   "name": "python3"
  },
  "language_info": {
   "codemirror_mode": {
    "name": "ipython",
    "version": 3
   },
   "file_extension": ".py",
   "mimetype": "text/x-python",
   "name": "python",
   "nbconvert_exporter": "python",
   "pygments_lexer": "ipython3",
   "version": "3.12.10"
  }
 },
 "nbformat": 4,
 "nbformat_minor": 5
}
