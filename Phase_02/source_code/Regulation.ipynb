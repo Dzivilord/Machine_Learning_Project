{
 "cells": [
  {
   "cell_type": "markdown",
   "id": "e4247c36",
   "metadata": {},
   "source": [
    "# <p align=\"center\">Các nguyên tắc thực hiện bài tập cần được tuân theo</p>\n"
   ]
  },
  {
   "cell_type": "markdown",
   "id": "1b6c19a0",
   "metadata": {},
   "source": [
    "# Model Development"
   ]
  },
  {
   "cell_type": "markdown",
   "id": "97689d1f",
   "metadata": {},
   "source": [
    "Đây là giai đoạn bạn phát triển các mô hình để nắm bắt các mẫu (patterns) trong dữ liệu đã được phát hiện trong quá trình phân tích. Bước này bao gồm việc lựa chọn phương pháp mô hình hóa phù hợp và thiết kế thuật toán chi tiết.\n",
    "* Lựa chọn mô hình: Tìm hiểu để xác định một thuật toán mô hình hóa phù hợp có thể giúp bạn nắm bắt các mẫu trong dữ liệu, cũng như xác định các thông tin liên quan đến mô hình, bao gồm các siêu tham số và quy trình huấn luyện.\n",
    "* Huấn luyện: Huấn luyện thuật toán đã chọn với phương pháp đã định trên tập dữ liệu đã chuẩn bị để thu được mô hình cuối cùng."
   ]
  },
  {
   "cell_type": "markdown",
   "id": "0875eb40",
   "metadata": {},
   "source": [
    "# Model Evaluation"
   ]
  },
  {
   "cell_type": "markdown",
   "id": "2244e6c0",
   "metadata": {},
   "source": [
    "Bạn sẽ đánh giá hiệu suất của mô hình bằng các chỉ số phù hợp với bài toán cũng như kết quả mong muốn của dự án, và thực hiện phân tích về các hạn chế của mô hình đã huấn luyện để xác định những điểm có thể cải thiện.\n",
    "* Đánh giá: Đánh giá mô hình bằng các chỉ số như sai số bình phương trung bình (mean squared error), sai số phần trăm trung bình (mean percentage error), hoặc sai số logarit gốc bình phương trung bình (root-mean-squared logarithmic error) cho các bài toán hồi quy; và độ chính xác (accuracy), độ chính xác dương (precision), độ nhạy (recall), hoặc AUC-ROC cho các bài toán phân loại.\n",
    "* Phân tích hạn chế: Phân tích các trường hợp dự đoán sai của mô hình, được phản ánh qua các chỉ số trên, và xác định đặc điểm cũng như nguyên nhân gây ra sai số đó.\n"
   ]
  },
  {
   "cell_type": "markdown",
   "id": "897d9938",
   "metadata": {},
   "source": [
    "# Source Code"
   ]
  },
  {
   "cell_type": "markdown",
   "id": "5211f82c",
   "metadata": {},
   "source": [
    "Mã nguồn và kết quả phải được trình bày dưới dạng Jupyter Notebooks với các yêu cầu sau:\n",
    "* Bao gồm thông tin sinh viên (Mã số sinh viên, họ tên đầy đủ, v.v.).\n",
    "* Cung cấp giải thích chi tiết cho từng bước với hình ảnh minh họa, sơ đồ và phương trình.\n",
    "* Ghi chú đầy đủ cho mỗi bước xử lý và in ra các kết quả trung gian để quan sát.\n",
    "* Đảm bảo notebook được định dạng rõ ràng.\n",
    "* Trước khi nộp, chạy lại toàn bộ notebook (Kernel → Restart & Run All).\n"
   ]
  },
  {
   "cell_type": "markdown",
   "id": "4ce7f525",
   "metadata": {},
   "source": [
    "# Report"
   ]
  },
  {
   "cell_type": "markdown",
   "id": "66bfe309",
   "metadata": {},
   "source": [
    "Báo cáo chi tiết phải bao gồm:\n",
    "* Thông tin sinh viên (Mã số sinh viên, họ tên đầy đủ, v.v.).\n",
    "* Tự đánh giá về các yêu cầu của bài tập.\n",
    "* Tài liệu cho từng giai đoạn: Tổ chức phân tích của bạn thành các phần riêng biệt, mỗi phần tương ứng với một giai đoạn, sau đó cung cấp kết quả chi tiết cho từng bước được thực hiện trong giai đoạn đó:\n",
    "    - Phát triển mô hình: Trình bày lựa chọn mô hình, thiết kế kiến trúc và thiết lập huấn luyện cùng với lý do cho các lựa chọn của bạn.\n",
    "    - Đánh giá mô hình: Báo cáo hiệu suất mô hình bằng các chỉ số phù hợp, cũng bao gồm nhận xét về thời gian chạy, việc sử dụng tài nguyên tính toán. Cung cấp phân tích chi tiết về bất kỳ loại lỗi nào mà sinh viên và/hoặc nhóm đã xác định là điểm yếu của mô hình.\n",
    "* Thảo luận về Ưu và Nhược điểm của các phương pháp mô hình hóa và framework khác nhau mà sinh viên và/hoặc nhóm đã thử nghiệm.\n",
    "* Đảm bảo báo cáo được định dạng tốt và xuất ra PDF.\n",
    "* Bao gồm bất kỳ tài liệu tham khảo nào trong phần thư mục tài liệu tham khảo được định dạng đúng cách.\n"
   ]
  }
 ],
 "metadata": {
  "language_info": {
   "name": "python"
  }
 },
 "nbformat": 4,
 "nbformat_minor": 5
}
