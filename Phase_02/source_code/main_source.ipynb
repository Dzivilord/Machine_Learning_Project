{
 "cells": [
  {
   "cell_type": "markdown",
   "id": "e0a508be",
   "metadata": {},
   "source": [
    "# Phase 2: Simple Neural Networks"
   ]
  },
  {
   "cell_type": "markdown",
   "id": "450c2595",
   "metadata": {},
   "source": [
    "Tên và MSSV của từng thành viên:\n",
    "- Đinh Viết Lợi - 22120188.\n",
    "- Nguyễn Trần Lợi - 22120190.\n",
    "- Nguyễn Nhật Long - 22120194.\n"
   ]
  },
  {
   "cell_type": "markdown",
   "id": "268006be",
   "metadata": {},
   "source": [
    "## Nắm yêu cầu của Phase 1:\n",
    "Đây là bài toán phân loại nhận biết đoạn âm thanh có chứa tiếng gà tây hay không bằng cách sử dụng thư viện scikit-learn và tuân theo quy trình: Phân tích Dữ liệu Khám phá (Exploratory Data Analysis), Phát triển Mô hình (Model Development) và Đánh giá Mô hình (Model Evaluation)."
   ]
  },
  {
   "cell_type": "markdown",
   "id": "a998db0b",
   "metadata": {},
   "source": [
    "## Import các thư viện cần thiết"
   ]
  },
  {
   "cell_type": "code",
   "execution_count": null,
   "id": "0e59aefb",
   "metadata": {},
   "outputs": [],
   "source": [
    "import json\n",
    "import numpy as np\n",
    "import pandas as pd\n",
    "import time\n",
    "import tracemalloc\n",
    "from sklearn.preprocessing import RobustScaler, StandardScaler, MinMaxScaler\n",
    "from sklearn.model_selection import train_test_split\n",
    "from sklearn.metrics import roc_auc_score, accuracy_score, precision_score, recall_score, f1_score\n",
    "from tensorflow.keras.models import Sequential\n",
    "from tensorflow.keras.layers import Dense, Input, Dropout, BatchNormalization\n",
    "from tensorflow.keras.callbacks import EarlyStopping\n",
    "from tensorflow.keras.optimizers import Adam\n"
   ]
  },
  {
   "cell_type": "markdown",
   "id": "1302bf1c",
   "metadata": {},
   "source": [
    "## Đọc dữ liệu"
   ]
  },
  {
   "cell_type": "code",
   "execution_count": null,
   "id": "8974dbc6",
   "metadata": {},
   "outputs": [],
   "source": [
    "# Load dữ liệu\n",
    "with open('Datasets/train.json', 'r') as file:\n",
    "    train_data = json.load(file)\n",
    "with open('Datasets/test.json', 'r') as file:\n",
    "    test_data = json.load(file)\n",
    "\n",
    "train_data = pd.DataFrame(train_data)\n",
    "test_data = pd.DataFrame(test_data)"
   ]
  },
  {
   "cell_type": "code",
   "execution_count": null,
   "id": "cfcaf368",
   "metadata": {},
   "outputs": [
    {
     "data": {
      "text/html": [
       "<div>\n",
       "<style scoped>\n",
       "    .dataframe tbody tr th:only-of-type {\n",
       "        vertical-align: middle;\n",
       "    }\n",
       "\n",
       "    .dataframe tbody tr th {\n",
       "        vertical-align: top;\n",
       "    }\n",
       "\n",
       "    .dataframe thead th {\n",
       "        text-align: right;\n",
       "    }\n",
       "</style>\n",
       "<table border=\"1\" class=\"dataframe\">\n",
       "  <thead>\n",
       "    <tr style=\"text-align: right;\">\n",
       "      <th></th>\n",
       "      <th>audio_embedding</th>\n",
       "      <th>is_turkey</th>\n",
       "      <th>vid_id</th>\n",
       "      <th>end_time_seconds_youtube_clip</th>\n",
       "      <th>start_time_seconds_youtube_clip</th>\n",
       "    </tr>\n",
       "  </thead>\n",
       "  <tbody>\n",
       "    <tr>\n",
       "      <th>0</th>\n",
       "      <td>[[172, 34, 216, 110, 208, 46, 95, 66, 161, 125...</td>\n",
       "      <td>0</td>\n",
       "      <td>kDCk3hLIVXo</td>\n",
       "      <td>70</td>\n",
       "      <td>60</td>\n",
       "    </tr>\n",
       "    <tr>\n",
       "      <th>1</th>\n",
       "      <td>[[169, 20, 165, 102, 205, 62, 110, 103, 211, 1...</td>\n",
       "      <td>1</td>\n",
       "      <td>DPcGzqHoo7Y</td>\n",
       "      <td>40</td>\n",
       "      <td>30</td>\n",
       "    </tr>\n",
       "    <tr>\n",
       "      <th>2</th>\n",
       "      <td>[[148, 8, 138, 60, 237, 48, 121, 108, 145, 177...</td>\n",
       "      <td>1</td>\n",
       "      <td>7yM63MTHh5k</td>\n",
       "      <td>240</td>\n",
       "      <td>230</td>\n",
       "    </tr>\n",
       "    <tr>\n",
       "      <th>3</th>\n",
       "      <td>[[151, 0, 162, 88, 171, 71, 47, 90, 179, 190, ...</td>\n",
       "      <td>1</td>\n",
       "      <td>luG3RmUAxxM</td>\n",
       "      <td>520</td>\n",
       "      <td>510</td>\n",
       "    </tr>\n",
       "    <tr>\n",
       "      <th>4</th>\n",
       "      <td>[[162, 17, 187, 111, 211, 105, 92, 67, 203, 15...</td>\n",
       "      <td>0</td>\n",
       "      <td>PIm3cjxTpOk</td>\n",
       "      <td>10</td>\n",
       "      <td>0</td>\n",
       "    </tr>\n",
       "  </tbody>\n",
       "</table>\n",
       "</div>"
      ],
      "text/plain": [
       "                                     audio_embedding  is_turkey       vid_id  \\\n",
       "0  [[172, 34, 216, 110, 208, 46, 95, 66, 161, 125...          0  kDCk3hLIVXo   \n",
       "1  [[169, 20, 165, 102, 205, 62, 110, 103, 211, 1...          1  DPcGzqHoo7Y   \n",
       "2  [[148, 8, 138, 60, 237, 48, 121, 108, 145, 177...          1  7yM63MTHh5k   \n",
       "3  [[151, 0, 162, 88, 171, 71, 47, 90, 179, 190, ...          1  luG3RmUAxxM   \n",
       "4  [[162, 17, 187, 111, 211, 105, 92, 67, 203, 15...          0  PIm3cjxTpOk   \n",
       "\n",
       "   end_time_seconds_youtube_clip  start_time_seconds_youtube_clip  \n",
       "0                             70                               60  \n",
       "1                             40                               30  \n",
       "2                            240                              230  \n",
       "3                            520                              510  \n",
       "4                             10                                0  "
      ]
     },
     "metadata": {},
     "output_type": "display_data"
    }
   ],
   "source": [
    "# Dữ liệu huấn luỵện\n",
    "train_data.head()"
   ]
  },
  {
   "cell_type": "code",
   "execution_count": null,
   "id": "e8d4e1cf",
   "metadata": {},
   "outputs": [
    {
     "data": {
      "text/html": [
       "<div>\n",
       "<style scoped>\n",
       "    .dataframe tbody tr th:only-of-type {\n",
       "        vertical-align: middle;\n",
       "    }\n",
       "\n",
       "    .dataframe tbody tr th {\n",
       "        vertical-align: top;\n",
       "    }\n",
       "\n",
       "    .dataframe thead th {\n",
       "        text-align: right;\n",
       "    }\n",
       "</style>\n",
       "<table border=\"1\" class=\"dataframe\">\n",
       "  <thead>\n",
       "    <tr style=\"text-align: right;\">\n",
       "      <th></th>\n",
       "      <th>audio_embedding</th>\n",
       "      <th>vid_id</th>\n",
       "      <th>end_time_seconds_youtube_clip</th>\n",
       "      <th>start_time_seconds_youtube_clip</th>\n",
       "    </tr>\n",
       "  </thead>\n",
       "  <tbody>\n",
       "    <tr>\n",
       "      <th>0</th>\n",
       "      <td>[[177, 20, 226, 132, 198, 81, 111, 59, 132, 18...</td>\n",
       "      <td>pyKh38FXD3E</td>\n",
       "      <td>10</td>\n",
       "      <td>0</td>\n",
       "    </tr>\n",
       "    <tr>\n",
       "      <th>1</th>\n",
       "      <td>[[169, 21, 204, 161, 195, 72, 60, 39, 152, 184...</td>\n",
       "      <td>THhP1idrWXA</td>\n",
       "      <td>40</td>\n",
       "      <td>30</td>\n",
       "    </tr>\n",
       "    <tr>\n",
       "      <th>2</th>\n",
       "      <td>[[165, 13, 198, 141, 199, 81, 173, 54, 119, 11...</td>\n",
       "      <td>jsw3T6GY2Nw</td>\n",
       "      <td>40</td>\n",
       "      <td>30</td>\n",
       "    </tr>\n",
       "    <tr>\n",
       "      <th>3</th>\n",
       "      <td>[[167, 18, 188, 159, 198, 63, 156, 36, 179, 22...</td>\n",
       "      <td>nFkXTMHcjMU</td>\n",
       "      <td>24</td>\n",
       "      <td>14</td>\n",
       "    </tr>\n",
       "    <tr>\n",
       "      <th>4</th>\n",
       "      <td>[[178, 32, 181, 100, 198, 46, 82, 83, 136, 227...</td>\n",
       "      <td>Au8g9kAlrLQ</td>\n",
       "      <td>40</td>\n",
       "      <td>30</td>\n",
       "    </tr>\n",
       "  </tbody>\n",
       "</table>\n",
       "</div>"
      ],
      "text/plain": [
       "                                     audio_embedding       vid_id  \\\n",
       "0  [[177, 20, 226, 132, 198, 81, 111, 59, 132, 18...  pyKh38FXD3E   \n",
       "1  [[169, 21, 204, 161, 195, 72, 60, 39, 152, 184...  THhP1idrWXA   \n",
       "2  [[165, 13, 198, 141, 199, 81, 173, 54, 119, 11...  jsw3T6GY2Nw   \n",
       "3  [[167, 18, 188, 159, 198, 63, 156, 36, 179, 22...  nFkXTMHcjMU   \n",
       "4  [[178, 32, 181, 100, 198, 46, 82, 83, 136, 227...  Au8g9kAlrLQ   \n",
       "\n",
       "   end_time_seconds_youtube_clip  start_time_seconds_youtube_clip  \n",
       "0                             10                                0  \n",
       "1                             40                               30  \n",
       "2                             40                               30  \n",
       "3                             24                               14  \n",
       "4                             40                               30  "
      ]
     },
     "metadata": {},
     "output_type": "display_data"
    }
   ],
   "source": [
    "# Dữ liệu test\n",
    "test_data.head()"
   ]
  },
  {
   "cell_type": "markdown",
   "id": "4c2bb924",
   "metadata": {},
   "source": [
    "## Khám phá dữ liệu"
   ]
  },
  {
   "cell_type": "markdown",
   "id": "60d7c62b",
   "metadata": {},
   "source": [
    "### Các cột có trong dữ liệu"
   ]
  },
  {
   "cell_type": "code",
   "execution_count": null,
   "id": "6d80cceb",
   "metadata": {},
   "outputs": [
    {
     "data": {
      "text/plain": [
       "Index(['audio_embedding', 'is_turkey', 'vid_id',\n",
       "       'end_time_seconds_youtube_clip', 'start_time_seconds_youtube_clip'],\n",
       "      dtype='object')"
      ]
     },
     "metadata": {},
     "output_type": "display_data"
    }
   ],
   "source": [
    "train_data.columns"
   ]
  },
  {
   "cell_type": "markdown",
   "id": "88195021",
   "metadata": {},
   "source": [
    "- Dữ liệu trong `train_df` chứa các cột trên. Trong đó, các cột cần thiết để thực hiện huấn luyện là `audio_embedding`, `is_turkey`."
   ]
  },
  {
   "cell_type": "code",
   "execution_count": null,
   "id": "d3dc1696",
   "metadata": {},
   "outputs": [
    {
     "data": {
      "text/plain": [
       "Index(['audio_embedding', 'vid_id', 'end_time_seconds_youtube_clip',\n",
       "       'start_time_seconds_youtube_clip'],\n",
       "      dtype='object')"
      ]
     },
     "metadata": {},
     "output_type": "display_data"
    }
   ],
   "source": [
    "test_data.columns"
   ]
  },
  {
   "cell_type": "markdown",
   "id": "e57ff6fa",
   "metadata": {},
   "source": [
    "- `test_df` có các cột trên. Dựa vào yêu cầu, các cột sử dụng là `vid_id`, `audio_embedding`."
   ]
  },
  {
   "cell_type": "markdown",
   "id": "c8c51fdb",
   "metadata": {},
   "source": [
    "## Phát triển mô hình"
   ]
  },
  {
   "cell_type": "markdown",
   "id": "dca2a387",
   "metadata": {},
   "source": [
    "### Xử lý dữ liệu trước khi huấn luyện"
   ]
  },
  {
   "cell_type": "markdown",
   "id": "c00505b2",
   "metadata": {},
   "source": [
    "- Vì mỗi `audio_embedding` có số lượng frame khác nhau do đó để dễ dàng trong việc huấn luyện ta thực hiện lấy trung bình của mỗi cột trong các `audio_embedding`."
   ]
  },
  {
   "cell_type": "code",
   "execution_count": null,
   "id": "4cbad17a",
   "metadata": {},
   "outputs": [],
   "source": [
    "def combined_embeddings(embeddings): # Hàm dùng để tính toán trên embeddings\n",
    "    X= np.array(embeddings)\n",
    "    return np.mean(X, axis=0)"
   ]
  },
  {
   "cell_type": "code",
   "execution_count": null,
   "id": "e9873f98",
   "metadata": {},
   "outputs": [],
   "source": [
    "# Tiền xử lý\n",
    "train_X = np.stack(train_data['audio_embedding'].apply(lambda x: np.mean(x, axis=0))) # Lấy trung bình của mỗi cột trong các audio_embedding\n",
    "train_Y = train_data['is_turkey'].values # Lấy nhãn của dữ liệu huấn luyện\n",
    "\n",
    "valid_idx = test_data['audio_embedding'].apply(lambda x: isinstance(x, list) and len(x) > 0)\n",
    "test_X = np.stack(test_data.loc[valid_idx, 'audio_embedding'].apply(lambda x: np.mean(x, axis=0))) # Lấy trung bình của mỗi cột trong các audio_embedding"
   ]
  },
  {
   "cell_type": "code",
   "execution_count": null,
   "id": "35242175",
   "metadata": {},
   "outputs": [
    {
     "name": "stdout",
     "output_type": "stream",
     "text": [
      "Train X shape: (1195, 128)\n",
      "[[166.6  29.3 198.4 106.4 215.2  57.5  77.3  65.  188.5 149.7  77.3  71.2\n",
      "  120.  156.1  70.7 105.8 101.1 131.5 175.6  90.7  25.  213.2 106.5 135.5\n",
      "   47.8 110.3 190.6 183.  104.5  35.6  99.6 109.2 160.  101.   99.5 141.8\n",
      "  134.9  95.6  90.7  98.6  70.3 150.2  15.  160.5 196.4 140.2 113.9  62.7\n",
      "   91.2 253.3 184.5  63.5  73.2 155.   30.2  50.1 147.1  38.1 119.5 197.7\n",
      "  182.6  74.5  59.7 182.9 213.4 187.9 176.7 115.9 251.3 121.2 119.   86.3\n",
      "  194.4 200.2  50.8 101.1 117.4 109.6 127.5 193.2 148.7 211.7 145.9 160.7\n",
      "  210.   95.  113.3 232.8  44.2   0.  108.9 221.4 209.5 162.5  91.8 252.5\n",
      "   98.2   6.1 205.  174.8 126.7  14.3 159.2 119.7  87.7 224.9 120.8 100.\n",
      "   96.3  99.5 212.3  61.7 102.4 147.9  94.8 190.5 144.5 205.8   1.9  85.2\n",
      "   44.3 186.2   0.   48.2 238.6 138.5 101.  255. ]\n",
      " [173.3  13.7 164.7  93.5 201.3  94.2 122.  114.  166.  181.8  89.5 145.3\n",
      "   77.  160.1  65.3 105.1 128.4 113.5 121.2 131.3  24.3 201.  104.5  84.5\n",
      "   93.8 120.4 171.9 179.8 132.3  96.8  97.9  86.9 105.7 142.9  87.2 156.\n",
      "   77.8  66.7 168.   81.9 116.1 117.1  79.7 110.7 149.7 201.7  56.9 106.4\n",
      "   86.3 215.3 170.1  90.7  74.4 168.2 124.5  93.8 205.8  91.   97.1 207.4\n",
      "  158.6  94.8  50.4 229.  130.1 228.4 140.4  81.2 151.2 166.  111.7 150.6\n",
      "  215.  234.4  93.3  83.9  81.7 141.5  84.   87.7 118.4 208.1 211.6 185.2\n",
      "  111.6 146.6 123.2 188.4  96.6 113.2 134.8 200.6 104.9  99.8 107.2 254.2\n",
      "   94.6  68.5 226.2 166.  151.2  71.5  83.2  81.4  28.1 223.6 117.9 162.4\n",
      "  192.3 141.8  34.9 101.1  79.8  82.4 123.4  60.2  54.1 210.1   6.8  29.1\n",
      "   77.2 150.2  48.1 126.1 231.3  35.9  14.9 255. ]]\n"
     ]
    }
   ],
   "source": [
    "# In ra kích thước của dữ liệu sau khi xử lý\n",
    "print(\"Train X shape:\", train_X.shape)\n",
    "\n",
    "# In ra hai dòng đầu tiên của dữ liệu huấn luyện\n",
    "print(train_X[:2])"
   ]
  },
  {
   "cell_type": "code",
   "execution_count": null,
   "id": "8d2d1431",
   "metadata": {},
   "outputs": [
    {
     "name": "stdout",
     "output_type": "stream",
     "text": [
      "Train X shape: (1196, 128)\n",
      "[[169.7  22.2 220.3 130.3 216.3  85.9 116.3  80.6 127.9 188.8  83.   85.\n",
      "  106.   79.  104.5  99.3  98.1 152.  201.5  75.   55.5 252.4  60.5  97.1\n",
      "    4.5 112.1  39.9 168.9  84.8  75.2 157.8  95.2  75.1 115.7 212.1 184.5\n",
      "   99.6  74.3  56.3 195.4  59.1 125.9  83.  229.  220.1  87.4  85.4  99.8\n",
      "  106.8 233.6 199.1  16.2 167.8 120.9 111.  108.9  33.8  44.  118.4 186.2\n",
      "  145.9 167.   92.4 130.  252.6 188.3 205.8 138.  138.5  24.  170.2  84.1\n",
      "  223.1 177.1  95.5  39.6 168.9 230.7  32.1 229.5  31.4 180.1 232.8 191.8\n",
      "  220.4  55.7 166.4 239.  133.9 106.7  80.4 210.6 182.2 223.7  89.2 255.\n",
      "    0.   38.1 202.6 167.1  77.7 152.7 181.6 140.9 145.3 143.5  80.7 195.2\n",
      "  172.9 134.4  66.8 122.1 106.9 155.5 157.3 182.1  92.2 248.8   5.8 216.3\n",
      "   35.7 196.4 153.    8.3 249.8 135.5  60.5 255. ]\n",
      " [165.3  16.1 192.5 140.7 200.4  85.   65.1  49.4 161.5 182.1  70.6  70.4\n",
      "  129.9 120.7  62.  108.9 100.2 114.7 224.8 108.1  60.4 239.4 101.  105.4\n",
      "   21.9 129.1  96.3 248.5 122.6  63.2 174.5  51.3  33.8 150.5 163.2 213.9\n",
      "  190.9  49.1 129.   86.1  46.1  83.5 135.6 147.  175.1  78.4  98.9 104.3\n",
      "    1.8 226.6 172.3  48.6  59.7 151.  129.6  50.  103.1   7.1 146.1 152.7\n",
      "   61.3 124.9 113.3 189.9 252.1 173.6 199.4 120.6 214.6 122.  119.5 159.4\n",
      "  208.2 198.1 132.1 129.2 181.9 237.   52.7 214.9 137.5 214.8 228.9 110.7\n",
      "  110.2  26.5 189.7 168.7 202.  125.8 177.5 243.2 108.2 143.3 112.  215.3\n",
      "   14.7  23.2 206.6 224.4  74.6 159.6 130.1 115.1 100.8  94.1 109.1  61.6\n",
      "  200.2 214.2 171.1 166.9  66.4  55.  139.6 114.4  88.4 247.1  80.1 239.3\n",
      "   15.6 231.8  77.1  18.1 244.8 129.2  39.1 255. ]]\n"
     ]
    }
   ],
   "source": [
    "# In ra kích thước của dữ liệu sau khi xử lý\n",
    "print(\"Train X shape:\", test_X.shape)\n",
    "\n",
    "# In ra hai dòng đầu tiên của dữ liệu huấn luyện\n",
    "print(test_X[:2])"
   ]
  },
  {
   "cell_type": "markdown",
   "id": "a7270490",
   "metadata": {},
   "source": [
    "$\\rightarrow$ Dữ liệu sau khi xử lý có kích thước là (1195,128) dối với dữ liệu huấn luyện và (1196,128) đối với dữ liệu test."
   ]
  },
  {
   "cell_type": "markdown",
   "id": "1f9ecc3c",
   "metadata": {},
   "source": [
    "- Chuẩn hóa dữ liệu để giúp cho mô hình học dữ liệu tốt hơn."
   ]
  },
  {
   "cell_type": "code",
   "execution_count": null,
   "id": "6999ed0d",
   "metadata": {},
   "outputs": [],
   "source": [
    "# Chuẩn hóa dữ liệu\n",
    "scaler = MinMaxScaler()\n",
    "Z = scaler.fit_transform(train_X)\n",
    "test_Z = scaler.transform(test_X)"
   ]
  },
  {
   "cell_type": "code",
   "execution_count": null,
   "id": "19d4349d",
   "metadata": {},
   "outputs": [
    {
     "name": "stdout",
     "output_type": "stream",
     "text": [
      "[[ 6.49126134e-01 -3.37372579e-01  6.07047657e-01 -1.55904665e-03\n",
      "   5.05158521e-01 -1.03328125e+00 -1.03239333e+00 -5.33529786e-01\n",
      "   3.86531989e-01 -4.47395994e-01 -2.74144379e-02 -4.20736723e-01\n",
      "  -6.97223581e-01  4.89847279e-02 -1.00862245e-02  5.17695051e-01\n",
      "  -7.88857255e-01  2.36558405e-03  1.28815688e-01 -1.04025799e+00\n",
      "  -1.11466184e+00  5.01591717e-01  4.15651542e-02  8.60688786e-01\n",
      "  -6.90212362e-01 -6.49439468e-01  1.11483499e+00  2.39041901e-01\n",
      "  -6.60769275e-01 -1.19587928e+00 -4.39144984e-01  7.08349089e-01\n",
      "   1.41517854e+00 -9.93197161e-02 -4.66426250e-01 -6.10170469e-01\n",
      "   1.61667615e-01 -6.10943722e-02 -7.29774492e-01 -2.77667246e-01\n",
      "  -1.82020784e-01  2.16234437e-01 -8.79888737e-01  1.49130003e-01\n",
      "   1.26327012e+00  2.52060582e-01  2.88889424e-01 -1.39291185e+00\n",
      "   1.54793181e-01  1.19492337e+00  4.52748485e-01 -5.74569614e-01\n",
      "  -5.29592477e-01  6.95780735e-01 -1.83243910e+00 -1.14632729e+00\n",
      "   1.98989108e-01 -4.65682654e-01  5.81285692e-02  2.82555017e-01\n",
      "   8.47565241e-01 -6.96194979e-01 -4.43776584e-01  4.87603895e-01\n",
      "   6.29703548e-01  8.06302954e-01  7.01250766e-01 -1.88399619e-02\n",
      "   1.46177960e+00  3.97075583e-02 -4.28402548e-01 -7.82449387e-01\n",
      "  -4.81470181e-03  3.83503290e-01 -1.34977664e+00  2.93437665e-01\n",
      "  -1.29181457e-01 -6.73443163e-01  5.01279912e-01  2.63933473e-01\n",
      "   1.36329562e+00  1.15914300e+00 -9.15049109e-01  8.22088098e-02\n",
      "   1.30801578e+00 -3.12750611e-01 -5.36843461e-01  9.71495501e-01\n",
      "  -1.60744700e+00 -1.50289703e+00  2.78746298e-01  6.99850825e-01\n",
      "   1.13588641e+00  7.03066688e-03 -1.58475019e-01  1.53859986e+00\n",
      "   4.37427607e-02 -1.15860278e+00  4.52941118e-01  3.39674430e-01\n",
      "  -1.90690678e-01 -1.28539316e+00  4.83337203e-01 -1.07999859e-01\n",
      "  -3.83915428e-01  8.46300756e-01 -4.08126379e-01 -8.60811764e-01\n",
      "  -1.28533164e+00 -1.28078123e+00  9.35768103e-01 -1.33062547e+00\n",
      "   1.88503106e-01  8.29101285e-01 -6.95432201e-01  1.12515699e+00\n",
      "  -6.60028105e-02  5.74038243e-01 -1.11382021e+00 -1.27022536e+00\n",
      "  -1.09136642e+00  7.53224509e-01 -1.20674868e+00 -7.76086420e-01\n",
      "   9.65274343e-01  4.19755649e-01  2.55529379e-02  5.64717485e-01]\n",
      " [ 8.17366786e-01 -6.59349460e-01 -4.98068187e-01 -3.19539047e-01\n",
      "   1.65655107e-01  1.20040551e-01  2.60861301e-01  1.19648798e+00\n",
      "  -1.94550394e-01  3.46893562e-01  3.61952924e-01  1.33059939e+00\n",
      "  -1.85845311e+00  1.32657394e-01 -1.38518575e-01  4.96680348e-01\n",
      "   5.67669350e-02 -5.09457179e-01 -1.15784067e+00 -1.37943590e-01\n",
      "  -1.12853700e+00  2.81543203e-01 -6.54839755e-03 -5.91180034e-01\n",
      "   1.57095226e-01 -3.66741014e-01  7.56785721e-01  1.65781849e-01\n",
      "   1.85962544e-02  2.54742230e-01 -4.76763787e-01  1.30048088e-01\n",
      "  -1.41331565e-01  8.87879111e-01 -6.88002202e-01 -2.48092156e-01\n",
      "  -1.02519426e+00 -7.91815871e-01  8.23218664e-01 -6.57942871e-01\n",
      "   9.00602911e-01 -4.14965101e-01  2.40452637e-01 -1.03293782e+00\n",
      "   1.82187162e-01  1.82032196e+00 -1.15576714e+00 -4.56132831e-01\n",
      "   4.31641803e-02  3.03726937e-01  8.77453072e-02 -1.10135035e-02\n",
      "  -5.04678422e-01  1.01471317e+00  3.86676480e-01 -2.10044781e-01\n",
      "   1.42513326e+00  4.35200246e-01 -3.28767943e-01  4.78449033e-01\n",
      "   3.70128811e-01 -2.59946009e-01 -6.51951761e-01  1.34566084e+00\n",
      "  -8.45482120e-01  1.45705758e+00  4.13126601e-03 -9.33867506e-01\n",
      "  -5.21427436e-01  9.57368839e-01 -5.74184821e-01  9.46317267e-01\n",
      "   4.53799313e-01  1.20439345e+00 -5.18243937e-01 -1.00847522e-01\n",
      "  -7.06795718e-01 -8.49331018e-02 -4.20198746e-01 -1.81678663e+00\n",
      "   7.28645316e-01  1.09315632e+00  5.08552439e-01  5.56427625e-01\n",
      "  -6.91071833e-01  8.08708222e-01 -3.37171259e-01  8.30742085e-02\n",
      "  -7.05697294e-01  7.72200972e-01  8.03862199e-01  2.94032792e-01\n",
      "  -1.15668507e+00 -1.38680704e+00  1.58634807e-01  1.57173681e+00\n",
      "  -1.44753072e-02  6.63803594e-02  8.70674494e-01  1.56466849e-01\n",
      "   2.72094253e-01 -3.04722741e-01 -1.00915642e+00 -8.21345081e-01\n",
      "  -1.33893162e+00  8.23090976e-01 -4.69388179e-01  3.29621959e-01\n",
      "   6.71487810e-01 -4.05773274e-01 -1.84332932e+00 -6.91613354e-01\n",
      "  -2.17217137e-01 -2.85088025e-01 -2.13112179e-01 -9.70179407e-01\n",
      "  -1.97779839e+00  6.39281620e-01 -1.02258617e+00 -2.30596669e+00\n",
      "  -5.25287360e-01  1.23536642e-01 -3.00591211e-01  7.06067872e-01\n",
      "   8.12392638e-01 -1.45793106e+00 -1.65680165e+00  5.64717485e-01]]\n"
     ]
    }
   ],
   "source": [
    "# In ra hai dòng đầu tiên của dữ liệu huấn luyện đã chuẩn hoá\n",
    "print(Z[:2])"
   ]
  },
  {
   "cell_type": "code",
   "execution_count": null,
   "id": "ed8d1695",
   "metadata": {},
   "outputs": [
    {
     "name": "stdout",
     "output_type": "stream",
     "text": [
      "[[ 0.72696882 -0.48391334  1.32520899  0.58756669  0.5320257  -0.14079245\n",
      "   0.09594964  0.01725138 -1.17851656  0.52010312  0.1545031  -0.09457696\n",
      "  -1.07529831 -1.56380591  0.79380516  0.32255852 -0.88178299  0.58527484\n",
      "   0.74139656 -1.38918253 -0.51010108  1.20863284 -1.06504654 -0.23248303\n",
      "  -1.48778668 -0.59905757 -1.77062087 -0.08376021 -1.14219017 -0.25724183\n",
      "   0.84874581  0.34529016 -1.0184809   0.2470245   1.5619845   0.47861432\n",
      "  -0.57206661 -0.59965382 -1.42088658  1.92656512 -0.44676719 -0.24715374\n",
      "   0.29759524  1.77506666  1.81191393 -1.09434919 -0.43343886 -0.59761433\n",
      "   0.51018347  0.73290838  0.82282115 -1.55457711  1.43446552 -0.12812805\n",
      "   0.06898761  0.11347618 -2.16765709 -0.36520611  0.03912919  0.05030953\n",
      "   0.11748537  1.291639    0.2881942  -0.49702111  1.32390857  0.81273016\n",
      "   1.26009863  0.56392974 -0.77304311 -1.95128969  0.59407038 -0.84159848\n",
      "   0.63412812 -0.17095761 -0.47519989 -1.11636111  0.70407161  1.56068124\n",
      "  -1.51961811  0.97985897 -1.09361792  0.57992666  0.96791854  0.68417637\n",
      "   1.51930146 -1.16688495  0.53412562  1.09555433 -0.06380294  0.64156372\n",
      "  -0.29908394  0.48913762  0.5375384   1.36752297 -0.21201304  1.58733067\n",
      "  -1.54431676 -0.5304063   0.40565055  0.1793678  -1.11626054  1.08741778\n",
      "   0.92323006  0.28685442  0.53905324 -0.60698855 -1.2552292   0.95536276\n",
      "   0.27604721 -0.55884795 -1.34359309 -0.35102314  0.26928811  0.95838127\n",
      "   0.35858883  0.99007775 -1.17205269  1.22647201 -1.04120536  1.15019692\n",
      "  -1.23933846  0.93163607  1.67562332 -1.53523862  1.19983257  0.36485253\n",
      "  -0.76579852  0.56471748]\n",
      " [ 0.61648243 -0.60981456  0.4135704   0.84392266  0.14367287 -0.16907554\n",
      "  -1.38536215 -1.08431095 -0.31076687  0.35431683 -0.24124733 -0.43964454\n",
      "  -0.42987074 -0.69151837 -0.21700501  0.61076016 -0.81673498 -0.47533566\n",
      "   1.29248283 -0.65355182 -0.41297493  0.97415492 -0.09074711  0.0038015\n",
      "  -1.16728337 -0.12322848 -0.69072896  1.7385836  -0.21844855 -0.54167742\n",
      "   1.21829522 -0.79315889 -2.20234586  1.06694143  0.68108498  1.22826942\n",
      "   1.32566525 -1.23682274  0.03969042 -0.56230469 -0.75406212 -1.05569938\n",
      "   1.20841373 -0.17131007  0.77018517 -1.32385085 -0.09128335 -0.50114967\n",
      "  -1.88186654  0.56874061  0.14350968 -0.88328234 -0.8098756   0.59913454\n",
      "   0.50669228 -1.14846981 -0.7200968  -0.99361025  0.51756818 -0.62623166\n",
      "  -1.56547805  0.38690591  0.75602873  0.61789454  1.31505391  0.57653033\n",
      "   1.13719051  0.10509749  0.73466973  0.05609437 -0.41841746  1.18291364\n",
      "   0.30241216  0.33309775  0.24089651  0.93758963  0.91440733  1.67690736\n",
      "  -1.08323971  0.69191097  1.12870541  1.21596485  0.88341251 -0.88558469\n",
      "  -0.71951414 -1.80150894  1.00406121 -0.31111272  1.10812749  1.02543626\n",
      "   1.66959382  1.12517934 -1.08435729 -0.41979045  0.25747423  0.81348535\n",
      "  -1.30659298 -0.82291029  0.48446817  1.37229898 -1.174817    1.20571544\n",
      "  -0.08813075 -0.19367579 -0.17400415 -1.48896019 -0.65528605 -1.59338636\n",
      "   0.83251774  1.09187628  0.29034074  0.37556931 -0.45777693 -0.75117638\n",
      "   0.06009007 -0.09859665 -1.25241577  1.20067812  0.34220061  1.5748324\n",
      "  -1.58518008  1.55082914  0.24574074 -1.34878018  1.09511908  0.24955598\n",
      "  -1.18394473  0.56471748]]\n"
     ]
    }
   ],
   "source": [
    "# In ra hai dòng dữ liệu test sau khi chuẩn hóa\n",
    "print(test_Z[:2])"
   ]
  },
  {
   "cell_type": "markdown",
   "id": "5dded4d6",
   "metadata": {},
   "source": [
    "### Chia tỉ lệ huấn luyện"
   ]
  },
  {
   "cell_type": "code",
   "execution_count": null,
   "id": "057ace27",
   "metadata": {},
   "outputs": [],
   "source": [
    "# Chia train / validation\n",
    "train_Z, val_Z, train_Y, val_Y = train_test_split(Z, train_Y, test_size=0.3, random_state=97)"
   ]
  },
  {
   "cell_type": "markdown",
   "id": "75eeca4c",
   "metadata": {},
   "source": [
    "### Khởi tạo danh sách các mô hình tối ưu nhất"
   ]
  },
  {
   "cell_type": "code",
   "execution_count": null,
   "id": "9d8d97db",
   "metadata": {},
   "outputs": [],
   "source": [
    "# Danh sách lưu các mô hình thỏa điều kiện\n",
    "qualified_models = []"
   ]
  },
  {
   "cell_type": "markdown",
   "id": "0da3873a",
   "metadata": {},
   "source": [
    "### Huấn luyện, model thỏa tiêu chí được lưu lại, in ra thời gian, bộ nhớ và các chỉ số. "
   ]
  },
  {
   "cell_type": "markdown",
   "id": "8d6e0ff6",
   "metadata": {},
   "source": [
    "##### Vì kết quả mỗi lần huấn luyện model là khác nhau, ta huấn luyện model 200 lần để xem model nào cho thông số cao nhất thì lưu lại"
   ]
  },
  {
   "cell_type": "markdown",
   "id": "82a38e33",
   "metadata": {},
   "source": [
    "##### **Nhận thấy:** Khi **Precision** và **Recall** từ 0.97 trở lên thì **Score** thường đạt được khá cao. Do đó ta chỉ lưu lại những model thỏa điều này."
   ]
  },
  {
   "cell_type": "code",
   "execution_count": null,
   "id": "81024a7e",
   "metadata": {},
   "outputs": [],
   "source": [
    "# Huấn luyện\n",
    "for i in range(200):\n",
    "    print(f\"\\n▶️ Huấn luyện lần {i + 1}\")\n",
    "\n",
    "    start_time = time.time()\n",
    "    tracemalloc.start()\n",
    "\n",
    "    model = Sequential([\n",
    "        Input(shape=(train_Z.shape[1],)),\n",
    "        Dense(200, activation='relu'),\n",
    "        Dense(200, activation='gelu'),\n",
    "        Dense(1, activation='sigmoid')\n",
    "    ])\n",
    "    model.compile(optimizer='adam', loss='binary_crossentropy', metrics=['auc'])\n",
    "\n",
    "    early_stop = EarlyStopping(monitor='val_loss', patience=2, restore_best_weights=True)\n",
    "\n",
    "    model.fit(\n",
    "        train_Z, train_Y,\n",
    "        validation_data=(val_Z, val_Y),\n",
    "        epochs=200,\n",
    "        batch_size=32,\n",
    "        callbacks=[early_stop],\n",
    "        verbose=0\n",
    "    )\n",
    "\n",
    "    # Dự đoán validation\n",
    "    y_pred_prob = model.predict(val_Z).ravel()\n",
    "    y_pred = (y_pred_prob >= 0.5).astype(int)\n",
    "\n",
    "    auc = roc_auc_score(val_Y, y_pred_prob)\n",
    "    acc = accuracy_score(val_Y, y_pred)\n",
    "    prec = precision_score(val_Y, y_pred)\n",
    "    rec = recall_score(val_Y, y_pred)\n",
    "    f1 = f1_score(val_Y, y_pred)\n",
    "\n",
    "    end_time = time.time()\n",
    "    current, peak = tracemalloc.get_traced_memory()\n",
    "    tracemalloc.stop()\n",
    "\n",
    "    if acc > 0.97 and prec >= 0.97 and rec >= 0.95:\n",
    "        print(f\"AUC       : {auc:.4f}\")\n",
    "        print(f\"Accuracy  : {acc:.4f}\")\n",
    "        print(f\"Precision : {prec:.4f}\")\n",
    "        print(f\"Recall    : {rec:.4f}\")\n",
    "        print(f\"F1 Score  : {f1:.4f}\")\n",
    "        print(f\"⏱ Thời gian huấn luyện: {end_time - start_time:.2f} giây\")\n",
    "        print(f\"📦 Bộ nhớ đỉnh sử dụng: {peak / 1024 / 1024:.2f} MB\")\n",
    "\n",
    "        test_pred = model.predict(test_Z).ravel()\n",
    "\n",
    "        qualified_models.append({\n",
    "            \"model\": model,\n",
    "            \"precision\": prec,\n",
    "            \"auc\": auc,\n",
    "            \"acc\": acc,\n",
    "            \"recall\": rec,\n",
    "            \"f1\": f1,\n",
    "            \"time\": end_time - start_time,\n",
    "            \"memory\": peak / 1024 / 1024,\n",
    "            \"test_pred\": test_pred\n",
    "        })"
   ]
  },
  {
   "cell_type": "markdown",
   "id": "a49565aa",
   "metadata": {},
   "source": [
    "### Trong các model thỏa tiêu chí, chọn ra 3 model có precision cao nhất"
   ]
  },
  {
   "cell_type": "code",
   "execution_count": null,
   "id": "1d0e6ecf",
   "metadata": {},
   "outputs": [],
   "source": [
    "# Sắp xếp theo precision giảm dần\n",
    "qualified_models = sorted(qualified_models, key=lambda x: x[\"precision\"], reverse=True)\n",
    "\n",
    "# Lưu 3 mô hình có precision cao nhất\n",
    "top_models = qualified_models[:3]\n",
    "\n",
    "# In thông tin các mô hình được lưu\n",
    "for idx, m in enumerate(top_models):\n",
    "    print(f\"\\n✅ model{idx + 1} (Precision: {m['precision']:.4f}):\")\n",
    "    print(f\"AUC      : {m['auc']:.4f}\")\n",
    "    print(f\"Accuracy : {m['acc']:.4f}\")\n",
    "    print(f\"Precision: {m['precision']:.4f})\")\n",
    "    print(f\"Recall   : {m['recall']:.4f}\")\n",
    "    print(f\"F1 Score : {m['f1']:.4f}\")\n",
    "    print(f\"⏱ Time   : {m['time']:.2f} giây\")\n",
    "    print(f\"📦 Memory : {m['memory']:.2f} MB\")"
   ]
  },
  {
   "cell_type": "markdown",
   "id": "973ebe63",
   "metadata": {},
   "source": [
    "### Dùng model có precision cao nhất để dự đoán với tập test"
   ]
  },
  {
   "cell_type": "code",
   "execution_count": null,
   "id": "9bffb502",
   "metadata": {},
   "outputs": [],
   "source": [
    "if top_models:\n",
    "    test_data['is_turkey'] = -1.0\n",
    "    test_data.loc[valid_idx, 'is_turkey'] = top_models[0]['test_pred']\n",
    "    test_data.loc[valid_idx, ['vid_id', 'is_turkey']].to_csv('result.csv', index=False)\n",
    "else:\n",
    "    print(\"\\n❌ Không có mô hình nào đạt yêu cầu.\")"
   ]
  }
 ],
 "metadata": {
  "kernelspec": {
   "display_name": "Python 3",
   "language": "python",
   "name": "python3"
  },
  "language_info": {
   "codemirror_mode": {
    "name": "ipython",
    "version": 3
   },
   "file_extension": ".py",
   "mimetype": "text/x-python",
   "name": "python",
   "nbconvert_exporter": "python",
   "pygments_lexer": "ipython3",
   "version": "3.11.9"
  }
 },
 "nbformat": 4,
 "nbformat_minor": 5
}
