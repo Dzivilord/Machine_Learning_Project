{
 "cells": [
  {
   "cell_type": "markdown",
   "id": "1240f82c",
   "metadata": {},
   "source": [
    "# Import thư viện"
   ]
  },
  {
   "cell_type": "code",
   "execution_count": 2,
   "id": "2cb5d2ec",
   "metadata": {},
   "outputs": [],
   "source": [
    "import json\n",
    "import pandas as pd\n",
    "import numpy as np\n",
    "import matplotlib.pyplot as plt"
   ]
  },
  {
   "cell_type": "code",
   "execution_count": 3,
   "id": "0b81d415",
   "metadata": {},
   "outputs": [],
   "source": [
    "from sklearn.metrics import roc_curve, auc\n",
    "from sklearn.model_selection import train_test_split\n",
    "from sklearn.linear_model import LogisticRegression\n",
    "from sklearn.ensemble import RandomForestClassifier\n",
    "from sklearn.svm import SVC\n",
    "from sklearn.tree import DecisionTreeClassifier\n",
    "from sklearn.neighbors import KNeighborsClassifier\n",
    "from sklearn.model_selection import cross_val_score\n",
    "from sklearn.metrics import classification_report, confusion_matrix,accuracy_score\n",
    "from imblearn.over_sampling import SMOTE\n",
    "from sklearn.model_selection import GridSearchCV\n",
    "from sklearn.preprocessing import StandardScaler\n",
    "from tqdm import tqdm\n",
    "from sklearn.metrics import roc_auc_score, roc_curve,precision_recall_curve,precision_score,recall_score,f1_score"
   ]
  },
  {
   "cell_type": "code",
   "execution_count": 4,
   "id": "0eab694a",
   "metadata": {},
   "outputs": [],
   "source": [
    "\n",
    "from imblearn.over_sampling import ADASYN\n",
    "from imblearn.combine import SMOTETomek"
   ]
  },
  {
   "cell_type": "markdown",
   "id": "af5d7e0b",
   "metadata": {},
   "source": [
    "# Đọc dữ liệu đầu vào"
   ]
  },
  {
   "cell_type": "markdown",
   "id": "7e6a54b1",
   "metadata": {},
   "source": [
    "## Dữ liệu train"
   ]
  },
  {
   "cell_type": "code",
   "execution_count": 5,
   "id": "007ac23f",
   "metadata": {},
   "outputs": [],
   "source": [
    "data_path = '../../dataset'"
   ]
  },
  {
   "cell_type": "code",
   "execution_count": 6,
   "id": "c3dc491e",
   "metadata": {},
   "outputs": [],
   "source": [
    "with open(f'{data_path}/train.json') as f:\n",
    "    data= json.load(f)"
   ]
  },
  {
   "cell_type": "markdown",
   "id": "5251eba7",
   "metadata": {},
   "source": [
    "## Dữ liệu test"
   ]
  },
  {
   "cell_type": "code",
   "execution_count": 7,
   "id": "0b290d08",
   "metadata": {},
   "outputs": [],
   "source": [
    "with open(f'{data_path}/test.json') as f:\n",
    "    test_data= json.load(f)"
   ]
  },
  {
   "cell_type": "markdown",
   "id": "2d4d0998",
   "metadata": {},
   "source": [
    "# EAC dữ liệu"
   ]
  },
  {
   "cell_type": "code",
   "execution_count": 8,
   "id": "e8701e8d",
   "metadata": {},
   "outputs": [],
   "source": [
    "data= pd.DataFrame(data)\n",
    "test_data= pd.DataFrame(test_data)"
   ]
  },
  {
   "cell_type": "code",
   "execution_count": 9,
   "id": "b95e59ed",
   "metadata": {},
   "outputs": [
    {
     "name": "stdout",
     "output_type": "stream",
     "text": [
      "<class 'pandas.core.frame.DataFrame'>\n",
      "RangeIndex: 1195 entries, 0 to 1194\n",
      "Data columns (total 5 columns):\n",
      " #   Column                           Non-Null Count  Dtype \n",
      "---  ------                           --------------  ----- \n",
      " 0   audio_embedding                  1195 non-null   object\n",
      " 1   is_turkey                        1195 non-null   int64 \n",
      " 2   vid_id                           1195 non-null   object\n",
      " 3   end_time_seconds_youtube_clip    1195 non-null   int64 \n",
      " 4   start_time_seconds_youtube_clip  1195 non-null   int64 \n",
      "dtypes: int64(3), object(2)\n",
      "memory usage: 46.8+ KB\n"
     ]
    }
   ],
   "source": [
    "data.info()\n",
    "EDA_data=data.copy()"
   ]
  },
  {
   "cell_type": "code",
   "execution_count": 10,
   "id": "6ac7acd9",
   "metadata": {},
   "outputs": [],
   "source": [
    "EDA_data['period']=EDA_data['end_time_seconds_youtube_clip']-EDA_data['start_time_seconds_youtube_clip']"
   ]
  },
  {
   "cell_type": "code",
   "execution_count": 11,
   "id": "7863947c",
   "metadata": {},
   "outputs": [
    {
     "data": {
      "text/plain": [
       "is_turkey\n",
       "0    704\n",
       "1    491\n",
       "Name: count, dtype: int64"
      ]
     },
     "execution_count": 11,
     "metadata": {},
     "output_type": "execute_result"
    }
   ],
   "source": [
    "EDA_data['is_turkey'].value_counts()"
   ]
  },
  {
   "cell_type": "markdown",
   "id": "377e2cf9",
   "metadata": {},
   "source": [
    "Dữ liệu có một chút thiên lệch"
   ]
  },
  {
   "cell_type": "markdown",
   "id": "9b03d530",
   "metadata": {},
   "source": [
    "# Tiền xử lý dữ liệu"
   ]
  },
  {
   "cell_type": "markdown",
   "id": "03e1b858",
   "metadata": {},
   "source": [
    "Dữ liệu đang bị thiên lệch, thử SMOTE"
   ]
  },
  {
   "cell_type": "code",
   "execution_count": 12,
   "id": "03781602",
   "metadata": {},
   "outputs": [],
   "source": [
    "train_data, valid_data= train_test_split(data, test_size=0.2, random_state=42)\n",
    "\n",
    "X_train= train_data.drop(columns=['is_turkey'])\n",
    "y_train= train_data['is_turkey']\n"
   ]
  },
  {
   "cell_type": "code",
   "execution_count": 13,
   "id": "d4f736e5",
   "metadata": {},
   "outputs": [
    {
     "name": "stdout",
     "output_type": "stream",
     "text": [
      "Kích thước X_train_mean ban đầu: (956, 128)\n",
      "Kích thước y_train ban đầu: (956,)\n",
      "Kích thước X_train_resampled sau ADASYN: (1171, 128)\n",
      "Kích thước y_train_resampled sau ADASYN: (1171,)\n",
      "\n",
      "Số lượng mẫu mỗi lớp sau ADASYN:\n",
      "is_turkey\n",
      "1    590\n",
      "0    581\n",
      "Name: count, dtype: int64\n"
     ]
    }
   ],
   "source": [
    "\n",
    "\n",
    "X_train_mean = np.stack(X_train['audio_embedding'].apply(lambda x: np.mean(x, axis=0)))\n",
    "\n",
    "adasyn_sampler = ADASYN(random_state=42)\n",
    "X_train_resampled, y_train_resampled = adasyn_sampler.fit_resample(X_train_mean, y_train)\n",
    "\n",
    "\n",
    "# smote_tomek_sampler = SMOTETomek(random_state=42)\n",
    "# X_train_resampled, y_train_resampled = smote_tomek_sampler.fit_resample(X_train_mean, y_train)\n",
    "\n",
    "print(f\"Kích thước X_train_mean ban đầu: {X_train_mean.shape}\")\n",
    "print(f\"Kích thước y_train ban đầu: {y_train.shape}\")\n",
    "print(f\"Kích thước X_train_resampled sau ADASYN: {X_train_resampled.shape}\")\n",
    "print(f\"Kích thước y_train_resampled sau ADASYN: {y_train_resampled.shape}\")\n",
    "print(\"\\nSố lượng mẫu mỗi lớp sau ADASYN:\")\n",
    "print(y_train_resampled.value_counts())"
   ]
  },
  {
   "cell_type": "code",
   "execution_count": 14,
   "id": "1db60bef",
   "metadata": {},
   "outputs": [
    {
     "data": {
      "text/plain": [
       "is_turkey\n",
       "0    581\n",
       "1    375\n",
       "Name: count, dtype: int64"
      ]
     },
     "execution_count": 14,
     "metadata": {},
     "output_type": "execute_result"
    }
   ],
   "source": [
    "y_train.value_counts()"
   ]
  },
  {
   "cell_type": "code",
   "execution_count": 15,
   "id": "df9e9e1d",
   "metadata": {},
   "outputs": [
    {
     "data": {
      "text/plain": [
       "is_turkey\n",
       "1    590\n",
       "0    581\n",
       "Name: count, dtype: int64"
      ]
     },
     "execution_count": 15,
     "metadata": {},
     "output_type": "execute_result"
    }
   ],
   "source": [
    "y_train_resampled.value_counts()"
   ]
  },
  {
   "cell_type": "markdown",
   "id": "93424c3d",
   "metadata": {},
   "source": [
    "SMOTE thành công"
   ]
  },
  {
   "cell_type": "code",
   "execution_count": 16,
   "id": "75204a14",
   "metadata": {},
   "outputs": [],
   "source": [
    "X_train_resampled = pd.DataFrame(X_train_resampled)\n",
    "y_train_resampled = pd.DataFrame(y_train_resampled)"
   ]
  },
  {
   "cell_type": "markdown",
   "id": "5ad8b537",
   "metadata": {},
   "source": [
    "# Huấn luyện mô hình"
   ]
  },
  {
   "cell_type": "code",
   "execution_count": 20,
   "id": "551164b9",
   "metadata": {},
   "outputs": [
    {
     "name": "stderr",
     "output_type": "stream",
     "text": [
      "d:\\HK2_2025\\01_Machine_Learning\\Project\\turkey_env\\Lib\\site-packages\\sklearn\\base.py:1389: DataConversionWarning: A column-vector y was passed when a 1d array was expected. Please change the shape of y to (n_samples,), for example using ravel().\n",
      "  return fit_method(estimator, *args, **kwargs)\n"
     ]
    },
    {
     "name": "stdout",
     "output_type": "stream",
     "text": [
      "--- Đánh giá trên tập Validation ---\n",
      "AUC Score   : 0.9821979254275301\n",
      "Accuracy    : 0.9205020920502092\n",
      "Precision   : 0.944954128440367\n",
      "Recall      : 0.8879310344827587\n",
      "F1 Score    : 0.9155555555555556\n"
     ]
    }
   ],
   "source": [
    "valid_idx_test = test_data['audio_embedding'].apply(lambda x: isinstance(x, list) and len(x) > 0)\n",
    "test_X = np.stack(test_data.loc[valid_idx_test, 'audio_embedding'].apply(lambda x: np.mean(x, axis=0)))\n",
    "\n",
    "\n",
    "valid_idx_val = valid_data['audio_embedding'].apply(lambda x: isinstance(x, list) and len(x) > 0)\n",
    "val_X = np.stack(valid_data.loc[valid_idx_val, 'audio_embedding'].apply(lambda x: np.mean(x, axis=0))) \n",
    "\n",
    "scaler = StandardScaler()\n",
    "Z = scaler.fit_transform(X_train_resampled)\n",
    "train_Z = Z \n",
    "\n",
    "\n",
    "val_Z = scaler.transform(val_X) \n",
    "test_Z = scaler.transform(test_X) \n",
    "\n",
    "\n",
    "train_Y = y_train_resampled \n",
    "val_Y = valid_data.loc[valid_idx_val, 'is_turkey'] \n",
    "\n",
    "\n",
    "model = RandomForestClassifier(\n",
    "    n_estimators=600,\n",
    "    max_depth=25,\n",
    "    min_samples_split=3,\n",
    "    min_samples_leaf=1,\n",
    "    class_weight='balanced',\n",
    "    random_state=42,\n",
    "    n_jobs=-1\n",
    ")\n",
    "\n",
    "model.fit(train_Z, train_Y)\n",
    "\n",
    "\n",
    "print(\"--- Đánh giá trên tập Validation ---\")\n",
    "y_pred_prob = model.predict_proba(val_Z)[:, 1]\n",
    "y_pred = model.predict(val_Z)\n",
    "\n",
    "print(\"AUC Score   :\", roc_auc_score(val_Y, y_pred_prob))\n",
    "print(\"Accuracy    :\", accuracy_score(val_Y, y_pred))\n",
    "print(\"Precision   :\", precision_score(val_Y, y_pred))\n",
    "print(\"Recall      :\", recall_score(val_Y, y_pred))\n",
    "print(\"F1 Score    :\", f1_score(val_Y, y_pred))\n",
    "\n",
    "test_pred_prob = model.predict_proba(test_Z)[:, 1]\n",
    "\n",
    "\n",
    "test_data['is_turkey'] = np.nan\n",
    "test_data.loc[valid_idx_test, 'is_turkey'] = test_pred_prob\n",
    "test_data[['vid_id', 'is_turkey']].to_csv('result.csv', index=False)\n"
   ]
  },
  {
   "cell_type": "code",
   "execution_count": null,
   "id": "ff9cdadd",
   "metadata": {},
   "outputs": [],
   "source": []
  }
 ],
 "metadata": {
  "kernelspec": {
   "display_name": "turkey_env",
   "language": "python",
   "name": "python3"
  },
  "language_info": {
   "codemirror_mode": {
    "name": "ipython",
    "version": 3
   },
   "file_extension": ".py",
   "mimetype": "text/x-python",
   "name": "python",
   "nbconvert_exporter": "python",
   "pygments_lexer": "ipython3",
   "version": "3.12.6"
  }
 },
 "nbformat": 4,
 "nbformat_minor": 5
}
