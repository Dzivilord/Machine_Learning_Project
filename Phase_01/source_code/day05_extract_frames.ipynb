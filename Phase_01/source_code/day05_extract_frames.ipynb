{
 "cells": [
  {
   "cell_type": "code",
   "execution_count": 1,
   "id": "0f5c798f",
   "metadata": {},
   "outputs": [],
   "source": [
    "import json\n",
    "import pandas as pd\n",
    "import numpy as np\n",
    "import matplotlib.pyplot as plt"
   ]
  },
  {
   "cell_type": "code",
   "execution_count": 2,
   "id": "449e326f",
   "metadata": {},
   "outputs": [],
   "source": [
    "from sklearn.metrics import roc_curve, auc\n",
    "from sklearn.model_selection import train_test_split\n",
    "from sklearn.linear_model import LogisticRegression\n",
    "from sklearn.ensemble import RandomForestClassifier\n",
    "from sklearn.svm import SVC\n",
    "from sklearn.tree import DecisionTreeClassifier\n",
    "from sklearn.neighbors import KNeighborsClassifier\n",
    "from sklearn.model_selection import cross_val_score\n",
    "from sklearn.metrics import classification_report, confusion_matrix,accuracy_score\n",
    "from imblearn.over_sampling import SMOTE\n",
    "from sklearn.model_selection import GridSearchCV\n",
    "from sklearn.preprocessing import StandardScaler\n",
    "from tqdm import tqdm\n",
    "from sklearn.metrics import roc_auc_score, roc_curve,precision_recall_curve,precision_score,recall_score,f1_score"
   ]
  },
  {
   "cell_type": "code",
   "execution_count": 3,
   "id": "66b0937a",
   "metadata": {},
   "outputs": [],
   "source": [
    "\n",
    "from imblearn.over_sampling import ADASYN\n",
    "from imblearn.combine import SMOTETomek"
   ]
  },
  {
   "cell_type": "markdown",
   "id": "6e065a6e",
   "metadata": {},
   "source": [
    "# Đọc dữ liệu đầu vào"
   ]
  },
  {
   "cell_type": "code",
   "execution_count": 4,
   "id": "f1825eb4",
   "metadata": {},
   "outputs": [],
   "source": [
    "data_path = '../../dataset'"
   ]
  },
  {
   "cell_type": "code",
   "execution_count": 5,
   "id": "24f63500",
   "metadata": {},
   "outputs": [],
   "source": [
    "with open(f'{data_path}/train.json') as f:\n",
    "    data= json.load(f)"
   ]
  },
  {
   "cell_type": "markdown",
   "id": "be958ea0",
   "metadata": {},
   "source": [
    "## Dữ liệu test"
   ]
  },
  {
   "cell_type": "code",
   "execution_count": 6,
   "id": "967594bb",
   "metadata": {},
   "outputs": [],
   "source": [
    "with open(f'{data_path}/test.json') as f:\n",
    "    test_data= json.load(f)"
   ]
  },
  {
   "cell_type": "code",
   "execution_count": 7,
   "id": "468602d3",
   "metadata": {},
   "outputs": [],
   "source": [
    "data= pd.DataFrame(data)\n",
    "test_data= pd.DataFrame(test_data)"
   ]
  },
  {
   "cell_type": "code",
   "execution_count": 8,
   "id": "7ac91503",
   "metadata": {},
   "outputs": [
    {
     "name": "stdout",
     "output_type": "stream",
     "text": [
      "<class 'pandas.core.frame.DataFrame'>\n",
      "RangeIndex: 1195 entries, 0 to 1194\n",
      "Data columns (total 5 columns):\n",
      " #   Column                           Non-Null Count  Dtype \n",
      "---  ------                           --------------  ----- \n",
      " 0   audio_embedding                  1195 non-null   object\n",
      " 1   is_turkey                        1195 non-null   int64 \n",
      " 2   vid_id                           1195 non-null   object\n",
      " 3   end_time_seconds_youtube_clip    1195 non-null   int64 \n",
      " 4   start_time_seconds_youtube_clip  1195 non-null   int64 \n",
      "dtypes: int64(3), object(2)\n",
      "memory usage: 46.8+ KB\n"
     ]
    }
   ],
   "source": [
    "data.info()\n",
    "EDA_data=data.copy()"
   ]
  },
  {
   "cell_type": "code",
   "execution_count": 9,
   "id": "410a8ab5",
   "metadata": {},
   "outputs": [],
   "source": [
    "EDA_data['period']=EDA_data['end_time_seconds_youtube_clip']-EDA_data['start_time_seconds_youtube_clip']"
   ]
  },
  {
   "cell_type": "code",
   "execution_count": 10,
   "id": "4dda9ef4",
   "metadata": {},
   "outputs": [
    {
     "data": {
      "text/plain": [
       "is_turkey\n",
       "0    704\n",
       "1    491\n",
       "Name: count, dtype: int64"
      ]
     },
     "execution_count": 10,
     "metadata": {},
     "output_type": "execute_result"
    }
   ],
   "source": [
    "EDA_data['is_turkey'].value_counts()"
   ]
  },
  {
   "cell_type": "markdown",
   "id": "f152acf8",
   "metadata": {},
   "source": [
    "# Tiền xử lý dữ liệu"
   ]
  },
  {
   "cell_type": "code",
   "execution_count": 11,
   "id": "2c5c7efe",
   "metadata": {},
   "outputs": [],
   "source": [
    "trimed_data=data.copy()"
   ]
  },
  {
   "cell_type": "code",
   "execution_count": 12,
   "id": "2552eb6f",
   "metadata": {},
   "outputs": [],
   "source": [
    "trimed_data['frames']=trimed_data['audio_embedding'].str.len()"
   ]
  },
  {
   "cell_type": "code",
   "execution_count": null,
   "id": "09d6cba3",
   "metadata": {},
   "outputs": [],
   "source": [
    "def trim_audio_embedding(row, only_is_turkey, min_length, start_trim, end_trim):\n",
    "    if row['frames'] > min_length and (not only_is_turkey or row['is_turkey'] == 1):\n",
    "        trimmed = row['audio_embedding'][start_trim:len(row['audio_embedding'])-end_trim]\n",
    "        return trimmed\n",
    "    return row['audio_embedding']\n",
    "\n",
    "# Example usage: only trim rows where is_turkey==1 and frames > 5, trim from second 1 to second l-1\n",
    "\n",
    "start_trim=1\n",
    "end_trim=1 \n",
    "min_length=5\n",
    "only_is_turkey=True\n",
    "\n",
    "trimed_data['audio_embedding'] = trimed_data.apply(\n",
    "    lambda row: trim_audio_embedding(row, only_is_turkey, min_length, start_trim, end_trim), axis=1\n",
    ")"
   ]
  },
  {
   "cell_type": "markdown",
   "id": "61bda631",
   "metadata": {},
   "source": [
    "Cắt bỏ giây đầu và giây cuối của video có độ dài lớn hơn 5"
   ]
  },
  {
   "cell_type": "markdown",
   "id": "70110877",
   "metadata": {},
   "source": [
    "### Tách frames"
   ]
  },
  {
   "cell_type": "code",
   "execution_count": 14,
   "id": "94cd23fd",
   "metadata": {},
   "outputs": [],
   "source": [
    "def expand_audio_embeddings(data):\n",
    "    expanded_rows = []\n",
    "    for idx, row in data.iterrows():\n",
    "        embeddings = row['audio_embedding']\n",
    "        for emb in embeddings:\n",
    "            new_row = row.copy()\n",
    "            new_row['audio_embedding'] = emb\n",
    "            expanded_rows.append(new_row)\n",
    "    expanded_data = pd.DataFrame(expanded_rows)\n",
    "    expanded_data.reset_index(drop=True, inplace=True)\n",
    "    return expanded_data\n"
   ]
  },
  {
   "cell_type": "code",
   "execution_count": 15,
   "id": "e0d7e0bd",
   "metadata": {},
   "outputs": [],
   "source": [
    "train_data=expand_audio_embeddings(trimed_data)"
   ]
  },
  {
   "cell_type": "code",
   "execution_count": 16,
   "id": "2d2106e9",
   "metadata": {},
   "outputs": [
    {
     "data": {
      "text/plain": [
       "(10821, 6)"
      ]
     },
     "execution_count": 16,
     "metadata": {},
     "output_type": "execute_result"
    }
   ],
   "source": [
    "train_data.shape"
   ]
  },
  {
   "cell_type": "code",
   "execution_count": 17,
   "id": "51614d3c",
   "metadata": {},
   "outputs": [
    {
     "data": {
      "text/html": [
       "<div>\n",
       "<style scoped>\n",
       "    .dataframe tbody tr th:only-of-type {\n",
       "        vertical-align: middle;\n",
       "    }\n",
       "\n",
       "    .dataframe tbody tr th {\n",
       "        vertical-align: top;\n",
       "    }\n",
       "\n",
       "    .dataframe thead th {\n",
       "        text-align: right;\n",
       "    }\n",
       "</style>\n",
       "<table border=\"1\" class=\"dataframe\">\n",
       "  <thead>\n",
       "    <tr style=\"text-align: right;\">\n",
       "      <th></th>\n",
       "      <th>audio_embedding</th>\n",
       "      <th>is_turkey</th>\n",
       "      <th>vid_id</th>\n",
       "      <th>end_time_seconds_youtube_clip</th>\n",
       "      <th>start_time_seconds_youtube_clip</th>\n",
       "      <th>frames</th>\n",
       "    </tr>\n",
       "  </thead>\n",
       "  <tbody>\n",
       "    <tr>\n",
       "      <th>0</th>\n",
       "      <td>[172, 34, 216, 110, 208, 46, 95, 66, 161, 125,...</td>\n",
       "      <td>0</td>\n",
       "      <td>kDCk3hLIVXo</td>\n",
       "      <td>70</td>\n",
       "      <td>60</td>\n",
       "      <td>10</td>\n",
       "    </tr>\n",
       "    <tr>\n",
       "      <th>1</th>\n",
       "      <td>[171, 39, 199, 121, 238, 62, 59, 61, 170, 146,...</td>\n",
       "      <td>0</td>\n",
       "      <td>kDCk3hLIVXo</td>\n",
       "      <td>70</td>\n",
       "      <td>60</td>\n",
       "      <td>10</td>\n",
       "    </tr>\n",
       "    <tr>\n",
       "      <th>2</th>\n",
       "      <td>[169, 33, 200, 97, 210, 22, 73, 51, 169, 129, ...</td>\n",
       "      <td>0</td>\n",
       "      <td>kDCk3hLIVXo</td>\n",
       "      <td>70</td>\n",
       "      <td>60</td>\n",
       "      <td>10</td>\n",
       "    </tr>\n",
       "    <tr>\n",
       "      <th>3</th>\n",
       "      <td>[180, 39, 218, 118, 213, 73, 80, 43, 160, 147,...</td>\n",
       "      <td>0</td>\n",
       "      <td>kDCk3hLIVXo</td>\n",
       "      <td>70</td>\n",
       "      <td>60</td>\n",
       "      <td>10</td>\n",
       "    </tr>\n",
       "    <tr>\n",
       "      <th>4</th>\n",
       "      <td>[166, 31, 204, 134, 211, 59, 62, 73, 187, 167,...</td>\n",
       "      <td>0</td>\n",
       "      <td>kDCk3hLIVXo</td>\n",
       "      <td>70</td>\n",
       "      <td>60</td>\n",
       "      <td>10</td>\n",
       "    </tr>\n",
       "    <tr>\n",
       "      <th>5</th>\n",
       "      <td>[160, 20, 186, 121, 211, 43, 44, 91, 235, 161,...</td>\n",
       "      <td>0</td>\n",
       "      <td>kDCk3hLIVXo</td>\n",
       "      <td>70</td>\n",
       "      <td>60</td>\n",
       "      <td>10</td>\n",
       "    </tr>\n",
       "    <tr>\n",
       "      <th>6</th>\n",
       "      <td>[160, 16, 194, 88, 208, 65, 95, 80, 211, 129, ...</td>\n",
       "      <td>0</td>\n",
       "      <td>kDCk3hLIVXo</td>\n",
       "      <td>70</td>\n",
       "      <td>60</td>\n",
       "      <td>10</td>\n",
       "    </tr>\n",
       "    <tr>\n",
       "      <th>7</th>\n",
       "      <td>[164, 27, 201, 96, 215, 51, 89, 71, 189, 135, ...</td>\n",
       "      <td>0</td>\n",
       "      <td>kDCk3hLIVXo</td>\n",
       "      <td>70</td>\n",
       "      <td>60</td>\n",
       "      <td>10</td>\n",
       "    </tr>\n",
       "    <tr>\n",
       "      <th>8</th>\n",
       "      <td>[159, 21, 178, 86, 204, 62, 69, 48, 210, 168, ...</td>\n",
       "      <td>0</td>\n",
       "      <td>kDCk3hLIVXo</td>\n",
       "      <td>70</td>\n",
       "      <td>60</td>\n",
       "      <td>10</td>\n",
       "    </tr>\n",
       "    <tr>\n",
       "      <th>9</th>\n",
       "      <td>[165, 33, 188, 93, 234, 92, 107, 66, 193, 190,...</td>\n",
       "      <td>0</td>\n",
       "      <td>kDCk3hLIVXo</td>\n",
       "      <td>70</td>\n",
       "      <td>60</td>\n",
       "      <td>10</td>\n",
       "    </tr>\n",
       "    <tr>\n",
       "      <th>10</th>\n",
       "      <td>[175, 19, 155, 106, 210, 82, 109, 106, 202, 21...</td>\n",
       "      <td>1</td>\n",
       "      <td>DPcGzqHoo7Y</td>\n",
       "      <td>40</td>\n",
       "      <td>30</td>\n",
       "      <td>10</td>\n",
       "    </tr>\n",
       "    <tr>\n",
       "      <th>11</th>\n",
       "      <td>[176, 15, 173, 94, 201, 120, 133, 114, 155, 21...</td>\n",
       "      <td>1</td>\n",
       "      <td>DPcGzqHoo7Y</td>\n",
       "      <td>40</td>\n",
       "      <td>30</td>\n",
       "      <td>10</td>\n",
       "    </tr>\n",
       "  </tbody>\n",
       "</table>\n",
       "</div>"
      ],
      "text/plain": [
       "                                      audio_embedding  is_turkey       vid_id  \\\n",
       "0   [172, 34, 216, 110, 208, 46, 95, 66, 161, 125,...          0  kDCk3hLIVXo   \n",
       "1   [171, 39, 199, 121, 238, 62, 59, 61, 170, 146,...          0  kDCk3hLIVXo   \n",
       "2   [169, 33, 200, 97, 210, 22, 73, 51, 169, 129, ...          0  kDCk3hLIVXo   \n",
       "3   [180, 39, 218, 118, 213, 73, 80, 43, 160, 147,...          0  kDCk3hLIVXo   \n",
       "4   [166, 31, 204, 134, 211, 59, 62, 73, 187, 167,...          0  kDCk3hLIVXo   \n",
       "5   [160, 20, 186, 121, 211, 43, 44, 91, 235, 161,...          0  kDCk3hLIVXo   \n",
       "6   [160, 16, 194, 88, 208, 65, 95, 80, 211, 129, ...          0  kDCk3hLIVXo   \n",
       "7   [164, 27, 201, 96, 215, 51, 89, 71, 189, 135, ...          0  kDCk3hLIVXo   \n",
       "8   [159, 21, 178, 86, 204, 62, 69, 48, 210, 168, ...          0  kDCk3hLIVXo   \n",
       "9   [165, 33, 188, 93, 234, 92, 107, 66, 193, 190,...          0  kDCk3hLIVXo   \n",
       "10  [175, 19, 155, 106, 210, 82, 109, 106, 202, 21...          1  DPcGzqHoo7Y   \n",
       "11  [176, 15, 173, 94, 201, 120, 133, 114, 155, 21...          1  DPcGzqHoo7Y   \n",
       "\n",
       "    end_time_seconds_youtube_clip  start_time_seconds_youtube_clip  frames  \n",
       "0                              70                               60      10  \n",
       "1                              70                               60      10  \n",
       "2                              70                               60      10  \n",
       "3                              70                               60      10  \n",
       "4                              70                               60      10  \n",
       "5                              70                               60      10  \n",
       "6                              70                               60      10  \n",
       "7                              70                               60      10  \n",
       "8                              70                               60      10  \n",
       "9                              70                               60      10  \n",
       "10                             40                               30      10  \n",
       "11                             40                               30      10  "
      ]
     },
     "execution_count": 17,
     "metadata": {},
     "output_type": "execute_result"
    }
   ],
   "source": [
    "train_data.head(12)"
   ]
  },
  {
   "cell_type": "code",
   "execution_count": 18,
   "id": "12a770c6",
   "metadata": {},
   "outputs": [],
   "source": [
    "test_data=expand_audio_embeddings(test_data)  # No trimming for test data"
   ]
  },
  {
   "cell_type": "code",
   "execution_count": 19,
   "id": "6924a31e",
   "metadata": {},
   "outputs": [
    {
     "name": "stdout",
     "output_type": "stream",
     "text": [
      "AUC Score   : 0.9639487485160597\n",
      "Accuracy    : 0.8983677240529719\n",
      "Precision   : 0.89058039961941\n",
      "Recall      : 0.8132059079061685\n",
      "F1 Score    : 0.8501362397820164\n"
     ]
    }
   ],
   "source": [
    "# Chỉ chọn test_data có embedding hợp lệ\n",
    "valid_idx = test_data['audio_embedding'].apply(lambda x: isinstance(x, list) and len(x) > 0)\n",
    "train_X = np.vstack(train_data['audio_embedding'].values)\n",
    "train_Y = train_data['is_turkey'].values\n",
    "test_X = np.vstack(test_data.loc[valid_idx, 'audio_embedding'].values)\n",
    "\n",
    "scaler = StandardScaler()\n",
    "Z = scaler.fit_transform(train_X)\n",
    "test_Z = scaler.transform(test_X)\n",
    "\n",
    "train_Z, val_Z, train_Y, val_Y = train_test_split(Z, train_Y, test_size=0.3, random_state=42)\n",
    "\n",
    "model = RandomForestClassifier(\n",
    "    n_estimators=600,\n",
    "    max_depth=15,\n",
    "    min_samples_split=2,\n",
    "    min_samples_leaf=1,\n",
    "    class_weight='balanced',\n",
    "    random_state=42,\n",
    "    n_jobs=-1\n",
    ")\n",
    "\n",
    "model.fit(train_Z, train_Y)\n",
    "\n",
    "y_pred_prob = model.predict_proba(val_Z)[:, 1]\n",
    "y_pred = model.predict(val_Z)\n",
    "\n",
    "print(\"AUC Score   :\", roc_auc_score(val_Y, y_pred_prob))\n",
    "print(\"Accuracy    :\", accuracy_score(val_Y, y_pred))\n",
    "print(\"Precision   :\", precision_score(val_Y, y_pred))\n",
    "print(\"Recall      :\", recall_score(val_Y, y_pred))\n",
    "print(\"F1 Score    :\", f1_score(val_Y, y_pred))\n",
    "\n",
    "test_pred_prob = model.predict_proba(test_Z)[:, 1]\n",
    "\n",
    "test_data['is_turkey'] = np.nan\n",
    "test_data.loc[valid_idx, 'is_turkey'] = test_pred_prob\n",
    "\n",
    "test_data[['vid_id', 'is_turkey']].to_csv('result.csv', index=False)\n"
   ]
  }
 ],
 "metadata": {
  "kernelspec": {
   "display_name": "turkey_env",
   "language": "python",
   "name": "python3"
  },
  "language_info": {
   "codemirror_mode": {
    "name": "ipython",
    "version": 3
   },
   "file_extension": ".py",
   "mimetype": "text/x-python",
   "name": "python",
   "nbconvert_exporter": "python",
   "pygments_lexer": "ipython3",
   "version": "3.12.6"
  }
 },
 "nbformat": 4,
 "nbformat_minor": 5
}
