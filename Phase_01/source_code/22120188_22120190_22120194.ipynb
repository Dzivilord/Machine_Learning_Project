{
 "cells": [
  {
   "cell_type": "markdown",
   "id": "7225bcf9",
   "metadata": {},
   "source": [
    "# Phase 1: Scikit-learn"
   ]
  },
  {
   "cell_type": "markdown",
   "id": "e993e1cc",
   "metadata": {},
   "source": [
    "Tên và MSSV của từng thành viên:\n",
    "- Đinh Viết Lợi - 22120188.\n",
    "- Nguyễn Trần Lợi - 22120190.\n",
    "- Nguyễn Nhật Long - 22120194.\n"
   ]
  },
  {
   "cell_type": "markdown",
   "id": "c4db4588",
   "metadata": {},
   "source": [
    "---"
   ]
  },
  {
   "cell_type": "markdown",
   "id": "30c9010e",
   "metadata": {},
   "source": [
    "## Nắm yêu cầu của Phase 1:\n",
    "Đây là bài toán phân loại nhận biết đoạn âm thanh có chứa tiếng gà tây hay không bằng cách sử dụng thư viện scikit-learn và tuân theo quy trình: Phân tích Dữ liệu Khám phá (Exploratory Data Analysis), Phát triển Mô hình (Model Development) và Đánh giá Mô hình (Model Evaluation)."
   ]
  },
  {
   "cell_type": "markdown",
   "id": "f3862393",
   "metadata": {},
   "source": [
    "## Import các thư viện cần thiết"
   ]
  },
  {
   "cell_type": "code",
   "execution_count": 69,
   "id": "d1ba734c",
   "metadata": {},
   "outputs": [],
   "source": [
    "import json\n",
    "import pandas as pd\n",
    "import numpy as np\n",
    "import matplotlib.pyplot as plt\n",
    "\n",
    "from sklearn.metrics import roc_curve, auc\n",
    "from sklearn.model_selection import train_test_split\n",
    "from sklearn.linear_model import LogisticRegression\n",
    "from sklearn.ensemble import RandomForestClassifier\n",
    "from sklearn.svm import SVC\n",
    "from sklearn.tree import DecisionTreeClassifier\n",
    "from sklearn.neighbors import KNeighborsClassifier\n",
    "from sklearn.model_selection import cross_val_score\n",
    "from sklearn.metrics import classification_report, confusion_matrix,accuracy_score\n",
    "from imblearn.over_sampling import SMOTE\n",
    "from sklearn.model_selection import GridSearchCV\n",
    "from sklearn.preprocessing import StandardScaler\n",
    "from tqdm import tqdm\n",
    "from sklearn.metrics import roc_auc_score, roc_curve,precision_recall_curve,precision_score,recall_score,f1_score\n",
    "from sklearn.impute import SimpleImputer\n",
    "\n",
    "\n",
    "from imblearn.over_sampling import ADASYN\n",
    "from imblearn.combine import SMOTETomek"
   ]
  },
  {
   "cell_type": "markdown",
   "id": "f2f70150",
   "metadata": {},
   "source": [
    "## Đọc dữ liệu"
   ]
  },
  {
   "cell_type": "code",
   "execution_count": 70,
   "id": "69a805c0",
   "metadata": {},
   "outputs": [],
   "source": [
    "path_to_data = \".\""
   ]
  },
  {
   "cell_type": "code",
   "execution_count": 71,
   "id": "e9683e96",
   "metadata": {},
   "outputs": [],
   "source": [
    "with open(path_to_data + \"/train.json\") as f:\n",
    "    train_data = json.load(f)\n",
    "\n",
    "with open(path_to_data + \"/test.json\") as f:\n",
    "    test_data = json.load(f)\n",
    "\n",
    "# Chuyển  dữ liệu thành DataFrame để dễ quan sát\n",
    "train_df = pd.DataFrame(train_data)\n",
    "test_df = pd.DataFrame(test_data)\n"
   ]
  },
  {
   "cell_type": "code",
   "execution_count": 72,
   "id": "cb6e7e33",
   "metadata": {},
   "outputs": [
    {
     "data": {
      "text/html": [
       "<div>\n",
       "<style scoped>\n",
       "    .dataframe tbody tr th:only-of-type {\n",
       "        vertical-align: middle;\n",
       "    }\n",
       "\n",
       "    .dataframe tbody tr th {\n",
       "        vertical-align: top;\n",
       "    }\n",
       "\n",
       "    .dataframe thead th {\n",
       "        text-align: right;\n",
       "    }\n",
       "</style>\n",
       "<table border=\"1\" class=\"dataframe\">\n",
       "  <thead>\n",
       "    <tr style=\"text-align: right;\">\n",
       "      <th></th>\n",
       "      <th>audio_embedding</th>\n",
       "      <th>is_turkey</th>\n",
       "      <th>vid_id</th>\n",
       "      <th>end_time_seconds_youtube_clip</th>\n",
       "      <th>start_time_seconds_youtube_clip</th>\n",
       "    </tr>\n",
       "  </thead>\n",
       "  <tbody>\n",
       "    <tr>\n",
       "      <th>0</th>\n",
       "      <td>[[172, 34, 216, 110, 208, 46, 95, 66, 161, 125...</td>\n",
       "      <td>0</td>\n",
       "      <td>kDCk3hLIVXo</td>\n",
       "      <td>70</td>\n",
       "      <td>60</td>\n",
       "    </tr>\n",
       "    <tr>\n",
       "      <th>1</th>\n",
       "      <td>[[169, 20, 165, 102, 205, 62, 110, 103, 211, 1...</td>\n",
       "      <td>1</td>\n",
       "      <td>DPcGzqHoo7Y</td>\n",
       "      <td>40</td>\n",
       "      <td>30</td>\n",
       "    </tr>\n",
       "    <tr>\n",
       "      <th>2</th>\n",
       "      <td>[[148, 8, 138, 60, 237, 48, 121, 108, 145, 177...</td>\n",
       "      <td>1</td>\n",
       "      <td>7yM63MTHh5k</td>\n",
       "      <td>240</td>\n",
       "      <td>230</td>\n",
       "    </tr>\n",
       "    <tr>\n",
       "      <th>3</th>\n",
       "      <td>[[151, 0, 162, 88, 171, 71, 47, 90, 179, 190, ...</td>\n",
       "      <td>1</td>\n",
       "      <td>luG3RmUAxxM</td>\n",
       "      <td>520</td>\n",
       "      <td>510</td>\n",
       "    </tr>\n",
       "    <tr>\n",
       "      <th>4</th>\n",
       "      <td>[[162, 17, 187, 111, 211, 105, 92, 67, 203, 15...</td>\n",
       "      <td>0</td>\n",
       "      <td>PIm3cjxTpOk</td>\n",
       "      <td>10</td>\n",
       "      <td>0</td>\n",
       "    </tr>\n",
       "  </tbody>\n",
       "</table>\n",
       "</div>"
      ],
      "text/plain": [
       "                                     audio_embedding  is_turkey       vid_id  \\\n",
       "0  [[172, 34, 216, 110, 208, 46, 95, 66, 161, 125...          0  kDCk3hLIVXo   \n",
       "1  [[169, 20, 165, 102, 205, 62, 110, 103, 211, 1...          1  DPcGzqHoo7Y   \n",
       "2  [[148, 8, 138, 60, 237, 48, 121, 108, 145, 177...          1  7yM63MTHh5k   \n",
       "3  [[151, 0, 162, 88, 171, 71, 47, 90, 179, 190, ...          1  luG3RmUAxxM   \n",
       "4  [[162, 17, 187, 111, 211, 105, 92, 67, 203, 15...          0  PIm3cjxTpOk   \n",
       "\n",
       "   end_time_seconds_youtube_clip  start_time_seconds_youtube_clip  \n",
       "0                             70                               60  \n",
       "1                             40                               30  \n",
       "2                            240                              230  \n",
       "3                            520                              510  \n",
       "4                             10                                0  "
      ]
     },
     "execution_count": 72,
     "metadata": {},
     "output_type": "execute_result"
    }
   ],
   "source": [
    "# Dữ liệu huấn luỵện\n",
    "train_df.head()"
   ]
  },
  {
   "cell_type": "code",
   "execution_count": 73,
   "id": "1d3478e1",
   "metadata": {},
   "outputs": [
    {
     "data": {
      "text/html": [
       "<div>\n",
       "<style scoped>\n",
       "    .dataframe tbody tr th:only-of-type {\n",
       "        vertical-align: middle;\n",
       "    }\n",
       "\n",
       "    .dataframe tbody tr th {\n",
       "        vertical-align: top;\n",
       "    }\n",
       "\n",
       "    .dataframe thead th {\n",
       "        text-align: right;\n",
       "    }\n",
       "</style>\n",
       "<table border=\"1\" class=\"dataframe\">\n",
       "  <thead>\n",
       "    <tr style=\"text-align: right;\">\n",
       "      <th></th>\n",
       "      <th>audio_embedding</th>\n",
       "      <th>vid_id</th>\n",
       "      <th>end_time_seconds_youtube_clip</th>\n",
       "      <th>start_time_seconds_youtube_clip</th>\n",
       "    </tr>\n",
       "  </thead>\n",
       "  <tbody>\n",
       "    <tr>\n",
       "      <th>0</th>\n",
       "      <td>[[177, 20, 226, 132, 198, 81, 111, 59, 132, 18...</td>\n",
       "      <td>pyKh38FXD3E</td>\n",
       "      <td>10</td>\n",
       "      <td>0</td>\n",
       "    </tr>\n",
       "    <tr>\n",
       "      <th>1</th>\n",
       "      <td>[[169, 21, 204, 161, 195, 72, 60, 39, 152, 184...</td>\n",
       "      <td>THhP1idrWXA</td>\n",
       "      <td>40</td>\n",
       "      <td>30</td>\n",
       "    </tr>\n",
       "    <tr>\n",
       "      <th>2</th>\n",
       "      <td>[[165, 13, 198, 141, 199, 81, 173, 54, 119, 11...</td>\n",
       "      <td>jsw3T6GY2Nw</td>\n",
       "      <td>40</td>\n",
       "      <td>30</td>\n",
       "    </tr>\n",
       "    <tr>\n",
       "      <th>3</th>\n",
       "      <td>[[167, 18, 188, 159, 198, 63, 156, 36, 179, 22...</td>\n",
       "      <td>nFkXTMHcjMU</td>\n",
       "      <td>24</td>\n",
       "      <td>14</td>\n",
       "    </tr>\n",
       "    <tr>\n",
       "      <th>4</th>\n",
       "      <td>[[178, 32, 181, 100, 198, 46, 82, 83, 136, 227...</td>\n",
       "      <td>Au8g9kAlrLQ</td>\n",
       "      <td>40</td>\n",
       "      <td>30</td>\n",
       "    </tr>\n",
       "  </tbody>\n",
       "</table>\n",
       "</div>"
      ],
      "text/plain": [
       "                                     audio_embedding       vid_id  \\\n",
       "0  [[177, 20, 226, 132, 198, 81, 111, 59, 132, 18...  pyKh38FXD3E   \n",
       "1  [[169, 21, 204, 161, 195, 72, 60, 39, 152, 184...  THhP1idrWXA   \n",
       "2  [[165, 13, 198, 141, 199, 81, 173, 54, 119, 11...  jsw3T6GY2Nw   \n",
       "3  [[167, 18, 188, 159, 198, 63, 156, 36, 179, 22...  nFkXTMHcjMU   \n",
       "4  [[178, 32, 181, 100, 198, 46, 82, 83, 136, 227...  Au8g9kAlrLQ   \n",
       "\n",
       "   end_time_seconds_youtube_clip  start_time_seconds_youtube_clip  \n",
       "0                             10                                0  \n",
       "1                             40                               30  \n",
       "2                             40                               30  \n",
       "3                             24                               14  \n",
       "4                             40                               30  "
      ]
     },
     "execution_count": 73,
     "metadata": {},
     "output_type": "execute_result"
    }
   ],
   "source": [
    "# Dữ liệu test\n",
    "test_df.head()"
   ]
  },
  {
   "cell_type": "markdown",
   "id": "9f1a7ca6",
   "metadata": {},
   "source": [
    "## Khám phá dữ liệu"
   ]
  },
  {
   "cell_type": "markdown",
   "id": "ad61b530",
   "metadata": {},
   "source": [
    "### Các cột có trong dữ liệu"
   ]
  },
  {
   "cell_type": "code",
   "execution_count": 74,
   "id": "91181bdf",
   "metadata": {},
   "outputs": [
    {
     "data": {
      "text/plain": [
       "Index(['audio_embedding', 'is_turkey', 'vid_id',\n",
       "       'end_time_seconds_youtube_clip', 'start_time_seconds_youtube_clip'],\n",
       "      dtype='object')"
      ]
     },
     "execution_count": 74,
     "metadata": {},
     "output_type": "execute_result"
    }
   ],
   "source": [
    "train_df.columns"
   ]
  },
  {
   "cell_type": "markdown",
   "id": "9e31fe63",
   "metadata": {},
   "source": [
    "- Dữ liệu trong `train_df` chứa các cột trên. Trong đó, các cột cần thiết để thực hiện huấn luyện là `audio_embedding`, `is_turkey`."
   ]
  },
  {
   "cell_type": "code",
   "execution_count": 75,
   "id": "6cbc930e",
   "metadata": {},
   "outputs": [
    {
     "data": {
      "text/plain": [
       "Index(['audio_embedding', 'vid_id', 'end_time_seconds_youtube_clip',\n",
       "       'start_time_seconds_youtube_clip'],\n",
       "      dtype='object')"
      ]
     },
     "execution_count": 75,
     "metadata": {},
     "output_type": "execute_result"
    }
   ],
   "source": [
    "test_df.columns"
   ]
  },
  {
   "cell_type": "markdown",
   "id": "6edbad53",
   "metadata": {},
   "source": [
    "- `test_df` có các cột trên. Dựa vào yêu cầu, các cột sử dụng là `vid_id`, `audio_embedding`."
   ]
  },
  {
   "cell_type": "markdown",
   "id": "8ec15738",
   "metadata": {},
   "source": [
    "## Phát triển mô hình"
   ]
  },
  {
   "cell_type": "markdown",
   "id": "9a7d0565",
   "metadata": {},
   "source": [
    "### Xử lý dữ liệu trước khi huấn luyện"
   ]
  },
  {
   "cell_type": "markdown",
   "id": "18ae24a2",
   "metadata": {},
   "source": [
    "- Vì mỗi `audio_embedding` có số lượng frame khác nhau do đó để dễ dàng trong việc huấn luyện ta thực hiện lấy trung bình của mỗi cột trong các `audio_embedding`."
   ]
  },
  {
   "cell_type": "code",
   "execution_count": 76,
   "id": "bfbb2571",
   "metadata": {},
   "outputs": [],
   "source": [
    "def combined_embeddings(embeddings): # Hàm dùng để tính toán trên embeddings\n",
    "    X= np.array(embeddings)\n",
    "    return np.mean(X, axis=0)\n"
   ]
  },
  {
   "cell_type": "code",
   "execution_count": 77,
   "id": "808bb3d4",
   "metadata": {},
   "outputs": [],
   "source": [
    "train_X = np.stack(train_df['audio_embedding'].apply(combined_embeddings)) # Lấy trung bình của mỗi cột trong các audio_embedding\n",
    "train_Y = train_df['is_turkey'].values # Lấy nhãn của dữ liệu huấn luyện\n",
    "\n",
    "valid_idx = test_df['audio_embedding'].apply(lambda x: isinstance(x, list) and len(x) > 0)\n",
    "test_X = np.stack(test_df['audio_embedding'].apply(combined_embeddings)) # Lấy trung bình của mỗi cột trong các audio_embedding"
   ]
  },
  {
   "cell_type": "code",
   "execution_count": 78,
   "id": "2c1d5891",
   "metadata": {},
   "outputs": [
    {
     "name": "stdout",
     "output_type": "stream",
     "text": [
      "Train X shape: (1195, 128)\n",
      "[[166.6  29.3 198.4 106.4 215.2  57.5  77.3  65.  188.5 149.7  77.3  71.2\n",
      "  120.  156.1  70.7 105.8 101.1 131.5 175.6  90.7  25.  213.2 106.5 135.5\n",
      "   47.8 110.3 190.6 183.  104.5  35.6  99.6 109.2 160.  101.   99.5 141.8\n",
      "  134.9  95.6  90.7  98.6  70.3 150.2  15.  160.5 196.4 140.2 113.9  62.7\n",
      "   91.2 253.3 184.5  63.5  73.2 155.   30.2  50.1 147.1  38.1 119.5 197.7\n",
      "  182.6  74.5  59.7 182.9 213.4 187.9 176.7 115.9 251.3 121.2 119.   86.3\n",
      "  194.4 200.2  50.8 101.1 117.4 109.6 127.5 193.2 148.7 211.7 145.9 160.7\n",
      "  210.   95.  113.3 232.8  44.2   0.  108.9 221.4 209.5 162.5  91.8 252.5\n",
      "   98.2   6.1 205.  174.8 126.7  14.3 159.2 119.7  87.7 224.9 120.8 100.\n",
      "   96.3  99.5 212.3  61.7 102.4 147.9  94.8 190.5 144.5 205.8   1.9  85.2\n",
      "   44.3 186.2   0.   48.2 238.6 138.5 101.  255. ]\n",
      " [173.3  13.7 164.7  93.5 201.3  94.2 122.  114.  166.  181.8  89.5 145.3\n",
      "   77.  160.1  65.3 105.1 128.4 113.5 121.2 131.3  24.3 201.  104.5  84.5\n",
      "   93.8 120.4 171.9 179.8 132.3  96.8  97.9  86.9 105.7 142.9  87.2 156.\n",
      "   77.8  66.7 168.   81.9 116.1 117.1  79.7 110.7 149.7 201.7  56.9 106.4\n",
      "   86.3 215.3 170.1  90.7  74.4 168.2 124.5  93.8 205.8  91.   97.1 207.4\n",
      "  158.6  94.8  50.4 229.  130.1 228.4 140.4  81.2 151.2 166.  111.7 150.6\n",
      "  215.  234.4  93.3  83.9  81.7 141.5  84.   87.7 118.4 208.1 211.6 185.2\n",
      "  111.6 146.6 123.2 188.4  96.6 113.2 134.8 200.6 104.9  99.8 107.2 254.2\n",
      "   94.6  68.5 226.2 166.  151.2  71.5  83.2  81.4  28.1 223.6 117.9 162.4\n",
      "  192.3 141.8  34.9 101.1  79.8  82.4 123.4  60.2  54.1 210.1   6.8  29.1\n",
      "   77.2 150.2  48.1 126.1 231.3  35.9  14.9 255. ]]\n"
     ]
    }
   ],
   "source": [
    "# In ra kích thước của dữ liệu sau khi xử lý\n",
    "print(\"Train X shape:\", train_X.shape)\n",
    "\n",
    "# In ra hai dòng đầu tiên của dữ liệu huấn luyện\n",
    "print(train_X[:2])\n"
   ]
  },
  {
   "cell_type": "code",
   "execution_count": 89,
   "id": "3f90e780",
   "metadata": {},
   "outputs": [
    {
     "name": "stdout",
     "output_type": "stream",
     "text": [
      "Train X shape: (1196, 128)\n",
      "[[169.7  22.2 220.3 130.3 216.3  85.9 116.3  80.6 127.9 188.8  83.   85.\n",
      "  106.   79.  104.5  99.3  98.1 152.  201.5  75.   55.5 252.4  60.5  97.1\n",
      "    4.5 112.1  39.9 168.9  84.8  75.2 157.8  95.2  75.1 115.7 212.1 184.5\n",
      "   99.6  74.3  56.3 195.4  59.1 125.9  83.  229.  220.1  87.4  85.4  99.8\n",
      "  106.8 233.6 199.1  16.2 167.8 120.9 111.  108.9  33.8  44.  118.4 186.2\n",
      "  145.9 167.   92.4 130.  252.6 188.3 205.8 138.  138.5  24.  170.2  84.1\n",
      "  223.1 177.1  95.5  39.6 168.9 230.7  32.1 229.5  31.4 180.1 232.8 191.8\n",
      "  220.4  55.7 166.4 239.  133.9 106.7  80.4 210.6 182.2 223.7  89.2 255.\n",
      "    0.   38.1 202.6 167.1  77.7 152.7 181.6 140.9 145.3 143.5  80.7 195.2\n",
      "  172.9 134.4  66.8 122.1 106.9 155.5 157.3 182.1  92.2 248.8   5.8 216.3\n",
      "   35.7 196.4 153.    8.3 249.8 135.5  60.5 255. ]\n",
      " [165.3  16.1 192.5 140.7 200.4  85.   65.1  49.4 161.5 182.1  70.6  70.4\n",
      "  129.9 120.7  62.  108.9 100.2 114.7 224.8 108.1  60.4 239.4 101.  105.4\n",
      "   21.9 129.1  96.3 248.5 122.6  63.2 174.5  51.3  33.8 150.5 163.2 213.9\n",
      "  190.9  49.1 129.   86.1  46.1  83.5 135.6 147.  175.1  78.4  98.9 104.3\n",
      "    1.8 226.6 172.3  48.6  59.7 151.  129.6  50.  103.1   7.1 146.1 152.7\n",
      "   61.3 124.9 113.3 189.9 252.1 173.6 199.4 120.6 214.6 122.  119.5 159.4\n",
      "  208.2 198.1 132.1 129.2 181.9 237.   52.7 214.9 137.5 214.8 228.9 110.7\n",
      "  110.2  26.5 189.7 168.7 202.  125.8 177.5 243.2 108.2 143.3 112.  215.3\n",
      "   14.7  23.2 206.6 224.4  74.6 159.6 130.1 115.1 100.8  94.1 109.1  61.6\n",
      "  200.2 214.2 171.1 166.9  66.4  55.  139.6 114.4  88.4 247.1  80.1 239.3\n",
      "   15.6 231.8  77.1  18.1 244.8 129.2  39.1 255. ]]\n"
     ]
    }
   ],
   "source": [
    "# In ra kích thước của dữ liệu sau khi xử lý\n",
    "print(\"Train X shape:\", test_X.shape)\n",
    "\n",
    "# In ra hai dòng đầu tiên của dữ liệu huấn luyện\n",
    "print(test_X[:2])"
   ]
  },
  {
   "cell_type": "markdown",
   "id": "a665a242",
   "metadata": {},
   "source": [
    "$\\rightarrow$ Dữ liệu sau khi xử lý có kích thước là (1195,128) dối với dữ liệu huấn luyện và (1196,128) đối với dữ liệu test."
   ]
  },
  {
   "cell_type": "markdown",
   "id": "5d743812",
   "metadata": {},
   "source": [
    "- Chuẩn hóa dữ liệu để giúp cho mô hình học dữ liệu tốt hơn."
   ]
  },
  {
   "cell_type": "code",
   "execution_count": 79,
   "id": "05264e33",
   "metadata": {},
   "outputs": [],
   "source": [
    "scaler= StandardScaler()\n",
    "\n",
    "# Chuyển dữ liệu thành dạng chuẩn\n",
    "Z = scaler.fit_transform(train_X)\n",
    "test_Z = scaler.transform(test_X)"
   ]
  },
  {
   "cell_type": "code",
   "execution_count": null,
   "id": "1d65a989",
   "metadata": {},
   "outputs": [
    {
     "name": "stdout",
     "output_type": "stream",
     "text": [
      "[[ 6.49126134e-01 -3.37372579e-01  6.07047657e-01 -1.55904665e-03\n",
      "   5.05158521e-01 -1.03328125e+00 -1.03239333e+00 -5.33529786e-01\n",
      "   3.86531989e-01 -4.47395994e-01 -2.74144379e-02 -4.20736723e-01\n",
      "  -6.97223581e-01  4.89847279e-02 -1.00862245e-02  5.17695051e-01\n",
      "  -7.88857255e-01  2.36558405e-03  1.28815688e-01 -1.04025799e+00\n",
      "  -1.11466184e+00  5.01591717e-01  4.15651542e-02  8.60688786e-01\n",
      "  -6.90212362e-01 -6.49439468e-01  1.11483499e+00  2.39041901e-01\n",
      "  -6.60769275e-01 -1.19587928e+00 -4.39144984e-01  7.08349089e-01\n",
      "   1.41517854e+00 -9.93197161e-02 -4.66426250e-01 -6.10170469e-01\n",
      "   1.61667615e-01 -6.10943722e-02 -7.29774492e-01 -2.77667246e-01\n",
      "  -1.82020784e-01  2.16234437e-01 -8.79888737e-01  1.49130003e-01\n",
      "   1.26327012e+00  2.52060582e-01  2.88889424e-01 -1.39291185e+00\n",
      "   1.54793181e-01  1.19492337e+00  4.52748485e-01 -5.74569614e-01\n",
      "  -5.29592477e-01  6.95780735e-01 -1.83243910e+00 -1.14632729e+00\n",
      "   1.98989108e-01 -4.65682654e-01  5.81285692e-02  2.82555017e-01\n",
      "   8.47565241e-01 -6.96194979e-01 -4.43776584e-01  4.87603895e-01\n",
      "   6.29703548e-01  8.06302954e-01  7.01250766e-01 -1.88399619e-02\n",
      "   1.46177960e+00  3.97075583e-02 -4.28402548e-01 -7.82449387e-01\n",
      "  -4.81470181e-03  3.83503290e-01 -1.34977664e+00  2.93437665e-01\n",
      "  -1.29181457e-01 -6.73443163e-01  5.01279912e-01  2.63933473e-01\n",
      "   1.36329562e+00  1.15914300e+00 -9.15049109e-01  8.22088098e-02\n",
      "   1.30801578e+00 -3.12750611e-01 -5.36843461e-01  9.71495501e-01\n",
      "  -1.60744700e+00 -1.50289703e+00  2.78746298e-01  6.99850825e-01\n",
      "   1.13588641e+00  7.03066688e-03 -1.58475019e-01  1.53859986e+00\n",
      "   4.37427607e-02 -1.15860278e+00  4.52941118e-01  3.39674430e-01\n",
      "  -1.90690678e-01 -1.28539316e+00  4.83337203e-01 -1.07999859e-01\n",
      "  -3.83915428e-01  8.46300756e-01 -4.08126379e-01 -8.60811764e-01\n",
      "  -1.28533164e+00 -1.28078123e+00  9.35768103e-01 -1.33062547e+00\n",
      "   1.88503106e-01  8.29101285e-01 -6.95432201e-01  1.12515699e+00\n",
      "  -6.60028105e-02  5.74038243e-01 -1.11382021e+00 -1.27022536e+00\n",
      "  -1.09136642e+00  7.53224509e-01 -1.20674868e+00 -7.76086420e-01\n",
      "   9.65274343e-01  4.19755649e-01  2.55529379e-02  5.64717485e-01]\n",
      " [ 8.17366786e-01 -6.59349460e-01 -4.98068187e-01 -3.19539047e-01\n",
      "   1.65655107e-01  1.20040551e-01  2.60861301e-01  1.19648798e+00\n",
      "  -1.94550394e-01  3.46893562e-01  3.61952924e-01  1.33059939e+00\n",
      "  -1.85845311e+00  1.32657394e-01 -1.38518575e-01  4.96680348e-01\n",
      "   5.67669350e-02 -5.09457179e-01 -1.15784067e+00 -1.37943590e-01\n",
      "  -1.12853700e+00  2.81543203e-01 -6.54839755e-03 -5.91180034e-01\n",
      "   1.57095226e-01 -3.66741014e-01  7.56785721e-01  1.65781849e-01\n",
      "   1.85962544e-02  2.54742230e-01 -4.76763787e-01  1.30048088e-01\n",
      "  -1.41331565e-01  8.87879111e-01 -6.88002202e-01 -2.48092156e-01\n",
      "  -1.02519426e+00 -7.91815871e-01  8.23218664e-01 -6.57942871e-01\n",
      "   9.00602911e-01 -4.14965101e-01  2.40452637e-01 -1.03293782e+00\n",
      "   1.82187162e-01  1.82032196e+00 -1.15576714e+00 -4.56132831e-01\n",
      "   4.31641803e-02  3.03726937e-01  8.77453072e-02 -1.10135035e-02\n",
      "  -5.04678422e-01  1.01471317e+00  3.86676480e-01 -2.10044781e-01\n",
      "   1.42513326e+00  4.35200246e-01 -3.28767943e-01  4.78449033e-01\n",
      "   3.70128811e-01 -2.59946009e-01 -6.51951761e-01  1.34566084e+00\n",
      "  -8.45482120e-01  1.45705758e+00  4.13126601e-03 -9.33867506e-01\n",
      "  -5.21427436e-01  9.57368839e-01 -5.74184821e-01  9.46317267e-01\n",
      "   4.53799313e-01  1.20439345e+00 -5.18243937e-01 -1.00847522e-01\n",
      "  -7.06795718e-01 -8.49331018e-02 -4.20198746e-01 -1.81678663e+00\n",
      "   7.28645316e-01  1.09315632e+00  5.08552439e-01  5.56427625e-01\n",
      "  -6.91071833e-01  8.08708222e-01 -3.37171259e-01  8.30742085e-02\n",
      "  -7.05697294e-01  7.72200972e-01  8.03862199e-01  2.94032792e-01\n",
      "  -1.15668507e+00 -1.38680704e+00  1.58634807e-01  1.57173681e+00\n",
      "  -1.44753072e-02  6.63803594e-02  8.70674494e-01  1.56466849e-01\n",
      "   2.72094253e-01 -3.04722741e-01 -1.00915642e+00 -8.21345081e-01\n",
      "  -1.33893162e+00  8.23090976e-01 -4.69388179e-01  3.29621959e-01\n",
      "   6.71487810e-01 -4.05773274e-01 -1.84332932e+00 -6.91613354e-01\n",
      "  -2.17217137e-01 -2.85088025e-01 -2.13112179e-01 -9.70179407e-01\n",
      "  -1.97779839e+00  6.39281620e-01 -1.02258617e+00 -2.30596669e+00\n",
      "  -5.25287360e-01  1.23536642e-01 -3.00591211e-01  7.06067872e-01\n",
      "   8.12392638e-01 -1.45793106e+00 -1.65680165e+00  5.64717485e-01]]\n"
     ]
    }
   ],
   "source": [
    "# In ra hai dòng đầu tiên của dữ liệu huấn luyện đã chuẩn hoá\n",
    "print(Z[:2])\n"
   ]
  },
  {
   "cell_type": "code",
   "execution_count": 90,
   "id": "42e603ca",
   "metadata": {},
   "outputs": [
    {
     "name": "stdout",
     "output_type": "stream",
     "text": [
      "[[ 0.72696882 -0.48391334  1.32520899  0.58756669  0.5320257  -0.14079245\n",
      "   0.09594964  0.01725138 -1.17851656  0.52010312  0.1545031  -0.09457696\n",
      "  -1.07529831 -1.56380591  0.79380516  0.32255852 -0.88178299  0.58527484\n",
      "   0.74139656 -1.38918253 -0.51010108  1.20863284 -1.06504654 -0.23248303\n",
      "  -1.48778668 -0.59905757 -1.77062087 -0.08376021 -1.14219017 -0.25724183\n",
      "   0.84874581  0.34529016 -1.0184809   0.2470245   1.5619845   0.47861432\n",
      "  -0.57206661 -0.59965382 -1.42088658  1.92656512 -0.44676719 -0.24715374\n",
      "   0.29759524  1.77506666  1.81191393 -1.09434919 -0.43343886 -0.59761433\n",
      "   0.51018347  0.73290838  0.82282115 -1.55457711  1.43446552 -0.12812805\n",
      "   0.06898761  0.11347618 -2.16765709 -0.36520611  0.03912919  0.05030953\n",
      "   0.11748537  1.291639    0.2881942  -0.49702111  1.32390857  0.81273016\n",
      "   1.26009863  0.56392974 -0.77304311 -1.95128969  0.59407038 -0.84159848\n",
      "   0.63412812 -0.17095761 -0.47519989 -1.11636111  0.70407161  1.56068124\n",
      "  -1.51961811  0.97985897 -1.09361792  0.57992666  0.96791854  0.68417637\n",
      "   1.51930146 -1.16688495  0.53412562  1.09555433 -0.06380294  0.64156372\n",
      "  -0.29908394  0.48913762  0.5375384   1.36752297 -0.21201304  1.58733067\n",
      "  -1.54431676 -0.5304063   0.40565055  0.1793678  -1.11626054  1.08741778\n",
      "   0.92323006  0.28685442  0.53905324 -0.60698855 -1.2552292   0.95536276\n",
      "   0.27604721 -0.55884795 -1.34359309 -0.35102314  0.26928811  0.95838127\n",
      "   0.35858883  0.99007775 -1.17205269  1.22647201 -1.04120536  1.15019692\n",
      "  -1.23933846  0.93163607  1.67562332 -1.53523862  1.19983257  0.36485253\n",
      "  -0.76579852  0.56471748]\n",
      " [ 0.61648243 -0.60981456  0.4135704   0.84392266  0.14367287 -0.16907554\n",
      "  -1.38536215 -1.08431095 -0.31076687  0.35431683 -0.24124733 -0.43964454\n",
      "  -0.42987074 -0.69151837 -0.21700501  0.61076016 -0.81673498 -0.47533566\n",
      "   1.29248283 -0.65355182 -0.41297493  0.97415492 -0.09074711  0.0038015\n",
      "  -1.16728337 -0.12322848 -0.69072896  1.7385836  -0.21844855 -0.54167742\n",
      "   1.21829522 -0.79315889 -2.20234586  1.06694143  0.68108498  1.22826942\n",
      "   1.32566525 -1.23682274  0.03969042 -0.56230469 -0.75406212 -1.05569938\n",
      "   1.20841373 -0.17131007  0.77018517 -1.32385085 -0.09128335 -0.50114967\n",
      "  -1.88186654  0.56874061  0.14350968 -0.88328234 -0.8098756   0.59913454\n",
      "   0.50669228 -1.14846981 -0.7200968  -0.99361025  0.51756818 -0.62623166\n",
      "  -1.56547805  0.38690591  0.75602873  0.61789454  1.31505391  0.57653033\n",
      "   1.13719051  0.10509749  0.73466973  0.05609437 -0.41841746  1.18291364\n",
      "   0.30241216  0.33309775  0.24089651  0.93758963  0.91440733  1.67690736\n",
      "  -1.08323971  0.69191097  1.12870541  1.21596485  0.88341251 -0.88558469\n",
      "  -0.71951414 -1.80150894  1.00406121 -0.31111272  1.10812749  1.02543626\n",
      "   1.66959382  1.12517934 -1.08435729 -0.41979045  0.25747423  0.81348535\n",
      "  -1.30659298 -0.82291029  0.48446817  1.37229898 -1.174817    1.20571544\n",
      "  -0.08813075 -0.19367579 -0.17400415 -1.48896019 -0.65528605 -1.59338636\n",
      "   0.83251774  1.09187628  0.29034074  0.37556931 -0.45777693 -0.75117638\n",
      "   0.06009007 -0.09859665 -1.25241577  1.20067812  0.34220061  1.5748324\n",
      "  -1.58518008  1.55082914  0.24574074 -1.34878018  1.09511908  0.24955598\n",
      "  -1.18394473  0.56471748]]\n"
     ]
    }
   ],
   "source": [
    "# In ra hai dòng dữ liệu test sau khi chuẩn hóa\n",
    "print(test_Z[:2])"
   ]
  },
  {
   "cell_type": "markdown",
   "id": "22a4aa5a",
   "metadata": {},
   "source": [
    "- Chia dữ liệu huấn luyện"
   ]
  },
  {
   "cell_type": "code",
   "execution_count": null,
   "id": "8e443b21",
   "metadata": {},
   "outputs": [],
   "source": [
    "# Chia dữ liệu thành tập huấn luyện và tập xác thực với tỉ lệ tập xác thực là 70%\n",
    "train_Z, val_Z, train_Y, val_Y = train_test_split(Z, train_Y, test_size=0.7,random_state=45)"
   ]
  },
  {
   "cell_type": "markdown",
   "id": "aac4417e",
   "metadata": {},
   "source": [
    "### Lựa chọn mô hình với các tham số hiệu quả nhất"
   ]
  },
  {
   "cell_type": "code",
   "execution_count": 82,
   "id": "6afeace8",
   "metadata": {},
   "outputs": [],
   "source": [
    " # SVM với tham số tốt nhất từ GridSearch\n",
    "model = SVC(\n",
    "            probability=True,   \n",
    "            random_state=42\n",
    "        )"
   ]
  },
  {
   "cell_type": "markdown",
   "id": "5ad1e2d3",
   "metadata": {},
   "source": [
    "### Huấn luyện "
   ]
  },
  {
   "cell_type": "code",
   "execution_count": 83,
   "id": "41d87ad9",
   "metadata": {},
   "outputs": [
    {
     "data": {
      "text/html": [
       "<style>#sk-container-id-4 {\n",
       "  /* Definition of color scheme common for light and dark mode */\n",
       "  --sklearn-color-text: black;\n",
       "  --sklearn-color-line: gray;\n",
       "  /* Definition of color scheme for unfitted estimators */\n",
       "  --sklearn-color-unfitted-level-0: #fff5e6;\n",
       "  --sklearn-color-unfitted-level-1: #f6e4d2;\n",
       "  --sklearn-color-unfitted-level-2: #ffe0b3;\n",
       "  --sklearn-color-unfitted-level-3: chocolate;\n",
       "  /* Definition of color scheme for fitted estimators */\n",
       "  --sklearn-color-fitted-level-0: #f0f8ff;\n",
       "  --sklearn-color-fitted-level-1: #d4ebff;\n",
       "  --sklearn-color-fitted-level-2: #b3dbfd;\n",
       "  --sklearn-color-fitted-level-3: cornflowerblue;\n",
       "\n",
       "  /* Specific color for light theme */\n",
       "  --sklearn-color-text-on-default-background: var(--sg-text-color, var(--theme-code-foreground, var(--jp-content-font-color1, black)));\n",
       "  --sklearn-color-background: var(--sg-background-color, var(--theme-background, var(--jp-layout-color0, white)));\n",
       "  --sklearn-color-border-box: var(--sg-text-color, var(--theme-code-foreground, var(--jp-content-font-color1, black)));\n",
       "  --sklearn-color-icon: #696969;\n",
       "\n",
       "  @media (prefers-color-scheme: dark) {\n",
       "    /* Redefinition of color scheme for dark theme */\n",
       "    --sklearn-color-text-on-default-background: var(--sg-text-color, var(--theme-code-foreground, var(--jp-content-font-color1, white)));\n",
       "    --sklearn-color-background: var(--sg-background-color, var(--theme-background, var(--jp-layout-color0, #111)));\n",
       "    --sklearn-color-border-box: var(--sg-text-color, var(--theme-code-foreground, var(--jp-content-font-color1, white)));\n",
       "    --sklearn-color-icon: #878787;\n",
       "  }\n",
       "}\n",
       "\n",
       "#sk-container-id-4 {\n",
       "  color: var(--sklearn-color-text);\n",
       "}\n",
       "\n",
       "#sk-container-id-4 pre {\n",
       "  padding: 0;\n",
       "}\n",
       "\n",
       "#sk-container-id-4 input.sk-hidden--visually {\n",
       "  border: 0;\n",
       "  clip: rect(1px 1px 1px 1px);\n",
       "  clip: rect(1px, 1px, 1px, 1px);\n",
       "  height: 1px;\n",
       "  margin: -1px;\n",
       "  overflow: hidden;\n",
       "  padding: 0;\n",
       "  position: absolute;\n",
       "  width: 1px;\n",
       "}\n",
       "\n",
       "#sk-container-id-4 div.sk-dashed-wrapped {\n",
       "  border: 1px dashed var(--sklearn-color-line);\n",
       "  margin: 0 0.4em 0.5em 0.4em;\n",
       "  box-sizing: border-box;\n",
       "  padding-bottom: 0.4em;\n",
       "  background-color: var(--sklearn-color-background);\n",
       "}\n",
       "\n",
       "#sk-container-id-4 div.sk-container {\n",
       "  /* jupyter's `normalize.less` sets `[hidden] { display: none; }`\n",
       "     but bootstrap.min.css set `[hidden] { display: none !important; }`\n",
       "     so we also need the `!important` here to be able to override the\n",
       "     default hidden behavior on the sphinx rendered scikit-learn.org.\n",
       "     See: https://github.com/scikit-learn/scikit-learn/issues/21755 */\n",
       "  display: inline-block !important;\n",
       "  position: relative;\n",
       "}\n",
       "\n",
       "#sk-container-id-4 div.sk-text-repr-fallback {\n",
       "  display: none;\n",
       "}\n",
       "\n",
       "div.sk-parallel-item,\n",
       "div.sk-serial,\n",
       "div.sk-item {\n",
       "  /* draw centered vertical line to link estimators */\n",
       "  background-image: linear-gradient(var(--sklearn-color-text-on-default-background), var(--sklearn-color-text-on-default-background));\n",
       "  background-size: 2px 100%;\n",
       "  background-repeat: no-repeat;\n",
       "  background-position: center center;\n",
       "}\n",
       "\n",
       "/* Parallel-specific style estimator block */\n",
       "\n",
       "#sk-container-id-4 div.sk-parallel-item::after {\n",
       "  content: \"\";\n",
       "  width: 100%;\n",
       "  border-bottom: 2px solid var(--sklearn-color-text-on-default-background);\n",
       "  flex-grow: 1;\n",
       "}\n",
       "\n",
       "#sk-container-id-4 div.sk-parallel {\n",
       "  display: flex;\n",
       "  align-items: stretch;\n",
       "  justify-content: center;\n",
       "  background-color: var(--sklearn-color-background);\n",
       "  position: relative;\n",
       "}\n",
       "\n",
       "#sk-container-id-4 div.sk-parallel-item {\n",
       "  display: flex;\n",
       "  flex-direction: column;\n",
       "}\n",
       "\n",
       "#sk-container-id-4 div.sk-parallel-item:first-child::after {\n",
       "  align-self: flex-end;\n",
       "  width: 50%;\n",
       "}\n",
       "\n",
       "#sk-container-id-4 div.sk-parallel-item:last-child::after {\n",
       "  align-self: flex-start;\n",
       "  width: 50%;\n",
       "}\n",
       "\n",
       "#sk-container-id-4 div.sk-parallel-item:only-child::after {\n",
       "  width: 0;\n",
       "}\n",
       "\n",
       "/* Serial-specific style estimator block */\n",
       "\n",
       "#sk-container-id-4 div.sk-serial {\n",
       "  display: flex;\n",
       "  flex-direction: column;\n",
       "  align-items: center;\n",
       "  background-color: var(--sklearn-color-background);\n",
       "  padding-right: 1em;\n",
       "  padding-left: 1em;\n",
       "}\n",
       "\n",
       "\n",
       "/* Toggleable style: style used for estimator/Pipeline/ColumnTransformer box that is\n",
       "clickable and can be expanded/collapsed.\n",
       "- Pipeline and ColumnTransformer use this feature and define the default style\n",
       "- Estimators will overwrite some part of the style using the `sk-estimator` class\n",
       "*/\n",
       "\n",
       "/* Pipeline and ColumnTransformer style (default) */\n",
       "\n",
       "#sk-container-id-4 div.sk-toggleable {\n",
       "  /* Default theme specific background. It is overwritten whether we have a\n",
       "  specific estimator or a Pipeline/ColumnTransformer */\n",
       "  background-color: var(--sklearn-color-background);\n",
       "}\n",
       "\n",
       "/* Toggleable label */\n",
       "#sk-container-id-4 label.sk-toggleable__label {\n",
       "  cursor: pointer;\n",
       "  display: block;\n",
       "  width: 100%;\n",
       "  margin-bottom: 0;\n",
       "  padding: 0.5em;\n",
       "  box-sizing: border-box;\n",
       "  text-align: center;\n",
       "}\n",
       "\n",
       "#sk-container-id-4 label.sk-toggleable__label-arrow:before {\n",
       "  /* Arrow on the left of the label */\n",
       "  content: \"▸\";\n",
       "  float: left;\n",
       "  margin-right: 0.25em;\n",
       "  color: var(--sklearn-color-icon);\n",
       "}\n",
       "\n",
       "#sk-container-id-4 label.sk-toggleable__label-arrow:hover:before {\n",
       "  color: var(--sklearn-color-text);\n",
       "}\n",
       "\n",
       "/* Toggleable content - dropdown */\n",
       "\n",
       "#sk-container-id-4 div.sk-toggleable__content {\n",
       "  max-height: 0;\n",
       "  max-width: 0;\n",
       "  overflow: hidden;\n",
       "  text-align: left;\n",
       "  /* unfitted */\n",
       "  background-color: var(--sklearn-color-unfitted-level-0);\n",
       "}\n",
       "\n",
       "#sk-container-id-4 div.sk-toggleable__content.fitted {\n",
       "  /* fitted */\n",
       "  background-color: var(--sklearn-color-fitted-level-0);\n",
       "}\n",
       "\n",
       "#sk-container-id-4 div.sk-toggleable__content pre {\n",
       "  margin: 0.2em;\n",
       "  border-radius: 0.25em;\n",
       "  color: var(--sklearn-color-text);\n",
       "  /* unfitted */\n",
       "  background-color: var(--sklearn-color-unfitted-level-0);\n",
       "}\n",
       "\n",
       "#sk-container-id-4 div.sk-toggleable__content.fitted pre {\n",
       "  /* unfitted */\n",
       "  background-color: var(--sklearn-color-fitted-level-0);\n",
       "}\n",
       "\n",
       "#sk-container-id-4 input.sk-toggleable__control:checked~div.sk-toggleable__content {\n",
       "  /* Expand drop-down */\n",
       "  max-height: 200px;\n",
       "  max-width: 100%;\n",
       "  overflow: auto;\n",
       "}\n",
       "\n",
       "#sk-container-id-4 input.sk-toggleable__control:checked~label.sk-toggleable__label-arrow:before {\n",
       "  content: \"▾\";\n",
       "}\n",
       "\n",
       "/* Pipeline/ColumnTransformer-specific style */\n",
       "\n",
       "#sk-container-id-4 div.sk-label input.sk-toggleable__control:checked~label.sk-toggleable__label {\n",
       "  color: var(--sklearn-color-text);\n",
       "  background-color: var(--sklearn-color-unfitted-level-2);\n",
       "}\n",
       "\n",
       "#sk-container-id-4 div.sk-label.fitted input.sk-toggleable__control:checked~label.sk-toggleable__label {\n",
       "  background-color: var(--sklearn-color-fitted-level-2);\n",
       "}\n",
       "\n",
       "/* Estimator-specific style */\n",
       "\n",
       "/* Colorize estimator box */\n",
       "#sk-container-id-4 div.sk-estimator input.sk-toggleable__control:checked~label.sk-toggleable__label {\n",
       "  /* unfitted */\n",
       "  background-color: var(--sklearn-color-unfitted-level-2);\n",
       "}\n",
       "\n",
       "#sk-container-id-4 div.sk-estimator.fitted input.sk-toggleable__control:checked~label.sk-toggleable__label {\n",
       "  /* fitted */\n",
       "  background-color: var(--sklearn-color-fitted-level-2);\n",
       "}\n",
       "\n",
       "#sk-container-id-4 div.sk-label label.sk-toggleable__label,\n",
       "#sk-container-id-4 div.sk-label label {\n",
       "  /* The background is the default theme color */\n",
       "  color: var(--sklearn-color-text-on-default-background);\n",
       "}\n",
       "\n",
       "/* On hover, darken the color of the background */\n",
       "#sk-container-id-4 div.sk-label:hover label.sk-toggleable__label {\n",
       "  color: var(--sklearn-color-text);\n",
       "  background-color: var(--sklearn-color-unfitted-level-2);\n",
       "}\n",
       "\n",
       "/* Label box, darken color on hover, fitted */\n",
       "#sk-container-id-4 div.sk-label.fitted:hover label.sk-toggleable__label.fitted {\n",
       "  color: var(--sklearn-color-text);\n",
       "  background-color: var(--sklearn-color-fitted-level-2);\n",
       "}\n",
       "\n",
       "/* Estimator label */\n",
       "\n",
       "#sk-container-id-4 div.sk-label label {\n",
       "  font-family: monospace;\n",
       "  font-weight: bold;\n",
       "  display: inline-block;\n",
       "  line-height: 1.2em;\n",
       "}\n",
       "\n",
       "#sk-container-id-4 div.sk-label-container {\n",
       "  text-align: center;\n",
       "}\n",
       "\n",
       "/* Estimator-specific */\n",
       "#sk-container-id-4 div.sk-estimator {\n",
       "  font-family: monospace;\n",
       "  border: 1px dotted var(--sklearn-color-border-box);\n",
       "  border-radius: 0.25em;\n",
       "  box-sizing: border-box;\n",
       "  margin-bottom: 0.5em;\n",
       "  /* unfitted */\n",
       "  background-color: var(--sklearn-color-unfitted-level-0);\n",
       "}\n",
       "\n",
       "#sk-container-id-4 div.sk-estimator.fitted {\n",
       "  /* fitted */\n",
       "  background-color: var(--sklearn-color-fitted-level-0);\n",
       "}\n",
       "\n",
       "/* on hover */\n",
       "#sk-container-id-4 div.sk-estimator:hover {\n",
       "  /* unfitted */\n",
       "  background-color: var(--sklearn-color-unfitted-level-2);\n",
       "}\n",
       "\n",
       "#sk-container-id-4 div.sk-estimator.fitted:hover {\n",
       "  /* fitted */\n",
       "  background-color: var(--sklearn-color-fitted-level-2);\n",
       "}\n",
       "\n",
       "/* Specification for estimator info (e.g. \"i\" and \"?\") */\n",
       "\n",
       "/* Common style for \"i\" and \"?\" */\n",
       "\n",
       ".sk-estimator-doc-link,\n",
       "a:link.sk-estimator-doc-link,\n",
       "a:visited.sk-estimator-doc-link {\n",
       "  float: right;\n",
       "  font-size: smaller;\n",
       "  line-height: 1em;\n",
       "  font-family: monospace;\n",
       "  background-color: var(--sklearn-color-background);\n",
       "  border-radius: 1em;\n",
       "  height: 1em;\n",
       "  width: 1em;\n",
       "  text-decoration: none !important;\n",
       "  margin-left: 1ex;\n",
       "  /* unfitted */\n",
       "  border: var(--sklearn-color-unfitted-level-1) 1pt solid;\n",
       "  color: var(--sklearn-color-unfitted-level-1);\n",
       "}\n",
       "\n",
       ".sk-estimator-doc-link.fitted,\n",
       "a:link.sk-estimator-doc-link.fitted,\n",
       "a:visited.sk-estimator-doc-link.fitted {\n",
       "  /* fitted */\n",
       "  border: var(--sklearn-color-fitted-level-1) 1pt solid;\n",
       "  color: var(--sklearn-color-fitted-level-1);\n",
       "}\n",
       "\n",
       "/* On hover */\n",
       "div.sk-estimator:hover .sk-estimator-doc-link:hover,\n",
       ".sk-estimator-doc-link:hover,\n",
       "div.sk-label-container:hover .sk-estimator-doc-link:hover,\n",
       ".sk-estimator-doc-link:hover {\n",
       "  /* unfitted */\n",
       "  background-color: var(--sklearn-color-unfitted-level-3);\n",
       "  color: var(--sklearn-color-background);\n",
       "  text-decoration: none;\n",
       "}\n",
       "\n",
       "div.sk-estimator.fitted:hover .sk-estimator-doc-link.fitted:hover,\n",
       ".sk-estimator-doc-link.fitted:hover,\n",
       "div.sk-label-container:hover .sk-estimator-doc-link.fitted:hover,\n",
       ".sk-estimator-doc-link.fitted:hover {\n",
       "  /* fitted */\n",
       "  background-color: var(--sklearn-color-fitted-level-3);\n",
       "  color: var(--sklearn-color-background);\n",
       "  text-decoration: none;\n",
       "}\n",
       "\n",
       "/* Span, style for the box shown on hovering the info icon */\n",
       ".sk-estimator-doc-link span {\n",
       "  display: none;\n",
       "  z-index: 9999;\n",
       "  position: relative;\n",
       "  font-weight: normal;\n",
       "  right: .2ex;\n",
       "  padding: .5ex;\n",
       "  margin: .5ex;\n",
       "  width: min-content;\n",
       "  min-width: 20ex;\n",
       "  max-width: 50ex;\n",
       "  color: var(--sklearn-color-text);\n",
       "  box-shadow: 2pt 2pt 4pt #999;\n",
       "  /* unfitted */\n",
       "  background: var(--sklearn-color-unfitted-level-0);\n",
       "  border: .5pt solid var(--sklearn-color-unfitted-level-3);\n",
       "}\n",
       "\n",
       ".sk-estimator-doc-link.fitted span {\n",
       "  /* fitted */\n",
       "  background: var(--sklearn-color-fitted-level-0);\n",
       "  border: var(--sklearn-color-fitted-level-3);\n",
       "}\n",
       "\n",
       ".sk-estimator-doc-link:hover span {\n",
       "  display: block;\n",
       "}\n",
       "\n",
       "/* \"?\"-specific style due to the `<a>` HTML tag */\n",
       "\n",
       "#sk-container-id-4 a.estimator_doc_link {\n",
       "  float: right;\n",
       "  font-size: 1rem;\n",
       "  line-height: 1em;\n",
       "  font-family: monospace;\n",
       "  background-color: var(--sklearn-color-background);\n",
       "  border-radius: 1rem;\n",
       "  height: 1rem;\n",
       "  width: 1rem;\n",
       "  text-decoration: none;\n",
       "  /* unfitted */\n",
       "  color: var(--sklearn-color-unfitted-level-1);\n",
       "  border: var(--sklearn-color-unfitted-level-1) 1pt solid;\n",
       "}\n",
       "\n",
       "#sk-container-id-4 a.estimator_doc_link.fitted {\n",
       "  /* fitted */\n",
       "  border: var(--sklearn-color-fitted-level-1) 1pt solid;\n",
       "  color: var(--sklearn-color-fitted-level-1);\n",
       "}\n",
       "\n",
       "/* On hover */\n",
       "#sk-container-id-4 a.estimator_doc_link:hover {\n",
       "  /* unfitted */\n",
       "  background-color: var(--sklearn-color-unfitted-level-3);\n",
       "  color: var(--sklearn-color-background);\n",
       "  text-decoration: none;\n",
       "}\n",
       "\n",
       "#sk-container-id-4 a.estimator_doc_link.fitted:hover {\n",
       "  /* fitted */\n",
       "  background-color: var(--sklearn-color-fitted-level-3);\n",
       "}\n",
       "</style><div id=\"sk-container-id-4\" class=\"sk-top-container\"><div class=\"sk-text-repr-fallback\"><pre>SVC(probability=True, random_state=42)</pre><b>In a Jupyter environment, please rerun this cell to show the HTML representation or trust the notebook. <br />On GitHub, the HTML representation is unable to render, please try loading this page with nbviewer.org.</b></div><div class=\"sk-container\" hidden><div class=\"sk-item\"><div class=\"sk-estimator fitted sk-toggleable\"><input class=\"sk-toggleable__control sk-hidden--visually\" id=\"sk-estimator-id-4\" type=\"checkbox\" checked><label for=\"sk-estimator-id-4\" class=\"sk-toggleable__label fitted sk-toggleable__label-arrow fitted\">&nbsp;&nbsp;SVC<a class=\"sk-estimator-doc-link fitted\" rel=\"noreferrer\" target=\"_blank\" href=\"https://scikit-learn.org/1.5/modules/generated/sklearn.svm.SVC.html\">?<span>Documentation for SVC</span></a><span class=\"sk-estimator-doc-link fitted\">i<span>Fitted</span></span></label><div class=\"sk-toggleable__content fitted\"><pre>SVC(probability=True, random_state=42)</pre></div> </div></div></div></div>"
      ],
      "text/plain": [
       "SVC(probability=True, random_state=42)"
      ]
     },
     "execution_count": 83,
     "metadata": {},
     "output_type": "execute_result"
    }
   ],
   "source": [
    "# Huấn luyện mô hình\n",
    "model.fit(train_Z, train_Y)"
   ]
  },
  {
   "cell_type": "markdown",
   "id": "e137d3db",
   "metadata": {},
   "source": [
    "## Đánh giá mô hình"
   ]
  },
  {
   "cell_type": "markdown",
   "id": "ac45c87d",
   "metadata": {},
   "source": [
    "### Dự đoán trên tập val"
   ]
  },
  {
   "cell_type": "code",
   "execution_count": 84,
   "id": "9404b9a6",
   "metadata": {},
   "outputs": [],
   "source": [
    "# Dự đoán trên validation\n",
    "y_pred_prob = model.predict_proba(val_Z)[:, 1]\n",
    "y_pred = model.predict(val_Z)"
   ]
  },
  {
   "cell_type": "markdown",
   "id": "cf4ad16b",
   "metadata": {},
   "source": [
    "### Đánh giá"
   ]
  },
  {
   "cell_type": "code",
   "execution_count": 85,
   "id": "75e22c70",
   "metadata": {},
   "outputs": [
    {
     "name": "stdout",
     "output_type": "stream",
     "text": [
      "AUC Score   : 0.9904747703686031\n",
      "Accuracy    : 0.953405017921147\n",
      "Precision   : 0.9507692307692308\n",
      "Recall      : 0.9307228915662651\n",
      "F1 Score    : 0.9406392694063926\n"
     ]
    }
   ],
   "source": [
    "# In các chỉ số đánh giá\n",
    "print(\"AUC Score   :\", roc_auc_score(val_Y, y_pred_prob))\n",
    "print(\"Accuracy    :\", accuracy_score(val_Y, y_pred))\n",
    "print(\"Precision   :\", precision_score(val_Y, y_pred))\n",
    "print(\"Recall      :\", recall_score(val_Y, y_pred))\n",
    "print(\"F1 Score    :\", f1_score(val_Y, y_pred))"
   ]
  },
  {
   "cell_type": "markdown",
   "id": "8a87cbd8",
   "metadata": {},
   "source": [
    "## Dự đoán và lưu lại kết quả trên tập Test"
   ]
  },
  {
   "cell_type": "markdown",
   "id": "413e5823",
   "metadata": {},
   "source": [
    "### Dự đoán trên tập test"
   ]
  },
  {
   "cell_type": "code",
   "execution_count": 86,
   "id": "f2a37013",
   "metadata": {},
   "outputs": [],
   "source": [
    "# Dự đoán trên tập test \n",
    "test_pred_prob = model.predict_proba(test_Z)[:, 1]\n",
    "test_df['is_turkey'] = -1.0\n",
    "test_df.loc[valid_idx, 'is_turkey'] = test_pred_prob  "
   ]
  },
  {
   "cell_type": "code",
   "execution_count": 91,
   "id": "40aae91e",
   "metadata": {},
   "outputs": [
    {
     "name": "stdout",
     "output_type": "stream",
     "text": [
      "                                     audio_embedding       vid_id  \\\n",
      "0  [[177, 20, 226, 132, 198, 81, 111, 59, 132, 18...  pyKh38FXD3E   \n",
      "1  [[169, 21, 204, 161, 195, 72, 60, 39, 152, 184...  THhP1idrWXA   \n",
      "2  [[165, 13, 198, 141, 199, 81, 173, 54, 119, 11...  jsw3T6GY2Nw   \n",
      "3  [[167, 18, 188, 159, 198, 63, 156, 36, 179, 22...  nFkXTMHcjMU   \n",
      "4  [[178, 32, 181, 100, 198, 46, 82, 83, 136, 227...  Au8g9kAlrLQ   \n",
      "\n",
      "   end_time_seconds_youtube_clip  start_time_seconds_youtube_clip  is_turkey  \n",
      "0                             10                                0   0.019094  \n",
      "1                             40                               30   0.010089  \n",
      "2                             40                               30   0.086529  \n",
      "3                             24                               14   0.005280  \n",
      "4                             40                               30   0.769496  \n"
     ]
    }
   ],
   "source": [
    "# In ra vài dòng dữ liệu sau khi dự đoán\n",
    "print(test_df.head())"
   ]
  },
  {
   "cell_type": "markdown",
   "id": "60ae1214",
   "metadata": {},
   "source": [
    "### Lưu lại kết quả"
   ]
  },
  {
   "cell_type": "code",
   "execution_count": 87,
   "id": "aaa81ad6",
   "metadata": {},
   "outputs": [],
   "source": [
    "# Xuất file kết quả\n",
    "test_df.loc[valid_idx, ['vid_id', 'is_turkey']].to_csv('svm_result.csv', index=False)"
   ]
  }
 ],
 "metadata": {
  "kernelspec": {
   "display_name": "Python 3",
   "language": "python",
   "name": "python3"
  },
  "language_info": {
   "codemirror_mode": {
    "name": "ipython",
    "version": 3
   },
   "file_extension": ".py",
   "mimetype": "text/x-python",
   "name": "python",
   "nbconvert_exporter": "python",
   "pygments_lexer": "ipython3",
   "version": "3.12.10"
  }
 },
 "nbformat": 4,
 "nbformat_minor": 5
}
